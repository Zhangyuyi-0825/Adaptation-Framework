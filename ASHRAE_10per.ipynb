{
 "cells": [
  {
   "cell_type": "code",
   "execution_count": 1,
   "metadata": {},
   "outputs": [],
   "source": [
    "import numpy as np\n",
    "import pandas as pd\n",
    "import matplotlib\n",
    "import matplotlib.pyplot as plt\n",
    "import seaborn as sns\n",
    "import warnings\n",
    "import gc\n",
    "import sys\n",
    "warnings.simplefilter('ignore')\n",
    "matplotlib.rcParams['figure.dpi'] = 100\n",
    "sns.set()\n",
    "%matplotlib inline"
   ]
  },
  {
   "cell_type": "code",
   "execution_count": 2,
   "metadata": {},
   "outputs": [],
   "source": [
    "metadata_df = pd.read_csv('/Users/yuyizhang/Documents/forecasting/Energy_Data/ASHRAE_data/building_metadata.csv')\n",
    "train_df = pd.read_csv('/Users/yuyizhang/Documents/forecasting/Energy_Data/ASHRAE_data/train.csv', parse_dates=['timestamp'])\n",
    "weather_train_df = pd.read_csv('/Users/yuyizhang/Documents/forecasting/Energy_Data/ASHRAE_data/weather_train.csv', parse_dates=['timestamp'])"
   ]
  },
  {
   "cell_type": "code",
   "execution_count": 3,
   "metadata": {},
   "outputs": [
    {
     "name": "stdout",
     "output_type": "stream",
     "text": [
      "(1449, 6)\n",
      "(20216100, 4)\n",
      "(139773, 9)\n"
     ]
    }
   ],
   "source": [
    "print(metadata_df.shape)\n",
    "print(train_df.shape)\n",
    "print(weather_train_df.shape)"
   ]
  },
  {
   "cell_type": "code",
   "execution_count": 4,
   "metadata": {},
   "outputs": [],
   "source": [
    "train = train_df.merge(metadata_df, on='building_id', how='left')\n",
    "train = train.merge(weather_train_df, on=['site_id', 'timestamp'], how='left')"
   ]
  },
  {
   "cell_type": "code",
   "execution_count": 5,
   "metadata": {},
   "outputs": [],
   "source": [
    "del weather_train_df, metadata_df\n",
    "gc.collect();"
   ]
  },
  {
   "cell_type": "code",
   "execution_count": 6,
   "metadata": {},
   "outputs": [],
   "source": [
    "#format datetime\n",
    "train['timestamp']= pd.to_datetime(train['timestamp'],format='%Y-%m-%d %H:%M:%S')"
   ]
  },
  {
   "cell_type": "code",
   "execution_count": 7,
   "metadata": {},
   "outputs": [
    {
     "name": "stdout",
     "output_type": "stream",
     "text": [
      "Feature\"year_built\" has 12127645 NaN\n",
      "Feature\"year_built\" has 0.5999003269671203 NaN\n",
      "Feature\"floor_count\" has 16709167 NaN\n",
      "Feature\"floor_count\" has 0.826527718006935 NaN\n",
      "Feature\"air_temperature\" has 96658 NaN\n",
      "Feature\"air_temperature\" has 0.004781238715677109 NaN\n",
      "Feature\"cloud_coverage\" has 8825365 NaN\n",
      "Feature\"cloud_coverage\" has 0.43655131306236117 NaN\n",
      "Feature\"dew_temperature\" has 100140 NaN\n",
      "Feature\"dew_temperature\" has 0.00495347767373529 NaN\n",
      "Feature\"precip_depth_1_hr\" has 3749023 NaN\n",
      "Feature\"precip_depth_1_hr\" has 0.18544739094088375 NaN\n",
      "Feature\"sea_level_pressure\" has 1231669 NaN\n",
      "Feature\"sea_level_pressure\" has 0.06092515371411895 NaN\n",
      "Feature\"wind_direction\" has 1449048 NaN\n",
      "Feature\"wind_direction\" has 0.0716779200736047 NaN\n",
      "Feature\"wind_speed\" has 143676 NaN\n",
      "Feature\"wind_speed\" has 0.007107008770237583 NaN\n"
     ]
    }
   ],
   "source": [
    "# count the number of NaN\n",
    "def find_nan(df):\n",
    "    nan_lists = {}\n",
    "    for col in df.columns:\n",
    "        nan_counter = 0\n",
    "        for nan in df[col].isnull():\n",
    "            if nan:\n",
    "                nan_counter+=1\n",
    "                nan_lists[col] = nan_counter\n",
    "    for k, v in nan_lists.items():\n",
    "        print('Feature\"{}\" has {} NaN'.format(k,v))\n",
    "        print('Feature\"{}\" has {} NaN'.format(k,v/len(df)))\n",
    "\n",
    "find_nan(train)"
   ]
  },
  {
   "cell_type": "code",
   "execution_count": 8,
   "metadata": {},
   "outputs": [],
   "source": [
    "train_1 = train.dropna(axis = 0, how = 'any')"
   ]
  },
  {
   "cell_type": "code",
   "execution_count": 9,
   "metadata": {},
   "outputs": [],
   "source": [
    "# Below function extracts date related features from datetime\n",
    "def create_date_featues(df):\n",
    "\n",
    "    df['Year'] = pd.to_datetime(train_1['timestamp']).dt.year\n",
    "    df['Month'] = pd.to_datetime(train_1['timestamp']).dt.month\n",
    "    df['Day'] = pd.to_datetime(train_1['timestamp']).dt.day\n",
    "    df['Hour'] = pd.to_datetime(train_1['timestamp']).dt.hour\n",
    "    df['Minute'] = pd.to_datetime(train_1['timestamp']).dt.minute\n",
    "    \n",
    "    return df"
   ]
  },
  {
   "cell_type": "code",
   "execution_count": 10,
   "metadata": {},
   "outputs": [],
   "source": [
    "train_1 = create_date_featues(train_1)"
   ]
  },
  {
   "cell_type": "code",
   "execution_count": 11,
   "metadata": {},
   "outputs": [],
   "source": [
    "for col in ['meter']:\n",
    "    train_1 = pd.get_dummies(train_1, columns=[col])"
   ]
  },
  {
   "cell_type": "code",
   "execution_count": 12,
   "metadata": {},
   "outputs": [],
   "source": [
    "for col in ['primary_use']:\n",
    "    train_1 = pd.get_dummies(train_1, columns=[col])"
   ]
  },
  {
   "cell_type": "code",
   "execution_count": 13,
   "metadata": {},
   "outputs": [],
   "source": [
    "for col in ['floor_count']:\n",
    "    train_1 = pd.get_dummies(train_1, columns=[col])"
   ]
  },
  {
   "cell_type": "code",
   "execution_count": 14,
   "metadata": {},
   "outputs": [],
   "source": [
    "for col in ['cloud_coverage']:\n",
    "    train_1 = pd.get_dummies(train_1, columns=[col])"
   ]
  },
  {
   "cell_type": "code",
   "execution_count": 15,
   "metadata": {},
   "outputs": [],
   "source": [
    "for col in ['year_built']:\n",
    "    train_1 = pd.get_dummies(train_1, columns=[col])"
   ]
  },
  {
   "cell_type": "code",
   "execution_count": 16,
   "metadata": {},
   "outputs": [],
   "source": [
    "for col in ['precip_depth_1_hr']:\n",
    "    train_1 = pd.get_dummies(train_1, columns=[col])"
   ]
  },
  {
   "cell_type": "code",
   "execution_count": 17,
   "metadata": {},
   "outputs": [
    {
     "data": {
      "text/plain": [
       "(321728, 102)"
      ]
     },
     "execution_count": 17,
     "metadata": {},
     "output_type": "execute_result"
    }
   ],
   "source": [
    "train_1.shape"
   ]
  },
  {
   "cell_type": "code",
   "execution_count": 18,
   "metadata": {},
   "outputs": [],
   "source": [
    "df_1 = train_1[:int(len(train_1)*0.1)]"
   ]
  },
  {
   "cell_type": "code",
   "execution_count": 19,
   "metadata": {},
   "outputs": [],
   "source": [
    "train_set = df_1[ : int(len(df_1)*0.7)]\n",
    "test_set = df_1[int(len(df_1)*0.7) : ]"
   ]
  },
  {
   "cell_type": "code",
   "execution_count": 20,
   "metadata": {},
   "outputs": [
    {
     "name": "stdout",
     "output_type": "stream",
     "text": [
      "(22520, 102)\n",
      "(9652, 102)\n"
     ]
    }
   ],
   "source": [
    "print(train_set.shape)\n",
    "print(test_set.shape)"
   ]
  },
  {
   "cell_type": "code",
   "execution_count": 21,
   "metadata": {},
   "outputs": [],
   "source": [
    "x_train1 = train_set.drop(columns={'building_id','site_id','timestamp','meter_reading'},axis=1)\n",
    "y_train1 = train_set.loc[:,['meter_reading']]\n",
    "\n",
    "x_test1=test_set.drop(columns={'building_id','site_id','timestamp','meter_reading'},axis=1)\n",
    "y_test1=test_set.loc[:,['meter_reading']]"
   ]
  },
  {
   "cell_type": "code",
   "execution_count": 22,
   "metadata": {
    "collapsed": true,
    "jupyter": {
     "outputs_hidden": true
    }
   },
   "outputs": [
    {
     "name": "stdout",
     "output_type": "stream",
     "text": [
      "[1]\ttraining's rmse: 250.079\ttraining's l2: 62539.3\n",
      "Training until validation scores don't improve for 1000 rounds\n",
      "[2]\ttraining's rmse: 226.034\ttraining's l2: 51091.5\n",
      "[3]\ttraining's rmse: 204.449\ttraining's l2: 41799.2\n",
      "[4]\ttraining's rmse: 185.136\ttraining's l2: 34275.3\n",
      "[5]\ttraining's rmse: 167.826\ttraining's l2: 28165.7\n",
      "[6]\ttraining's rmse: 152.355\ttraining's l2: 23212\n",
      "[7]\ttraining's rmse: 138.548\ttraining's l2: 19195.6\n",
      "[8]\ttraining's rmse: 126.206\ttraining's l2: 15928\n",
      "[9]\ttraining's rmse: 115.229\ttraining's l2: 13277.8\n",
      "[10]\ttraining's rmse: 105.46\ttraining's l2: 11121.8\n",
      "[11]\ttraining's rmse: 96.7913\ttraining's l2: 9368.55\n",
      "[12]\ttraining's rmse: 89.0889\ttraining's l2: 7936.84\n",
      "[13]\ttraining's rmse: 82.2875\ttraining's l2: 6771.24\n",
      "[14]\ttraining's rmse: 76.2769\ttraining's l2: 5818.16\n",
      "[15]\ttraining's rmse: 70.9767\ttraining's l2: 5037.69\n",
      "[16]\ttraining's rmse: 66.2736\ttraining's l2: 4392.19\n",
      "[17]\ttraining's rmse: 62.0898\ttraining's l2: 3855.14\n",
      "[18]\ttraining's rmse: 58.4117\ttraining's l2: 3411.93\n",
      "[19]\ttraining's rmse: 55.1612\ttraining's l2: 3042.76\n",
      "[20]\ttraining's rmse: 52.3314\ttraining's l2: 2738.58\n",
      "[21]\ttraining's rmse: 49.8106\ttraining's l2: 2481.1\n",
      "[22]\ttraining's rmse: 47.5769\ttraining's l2: 2263.56\n",
      "[23]\ttraining's rmse: 45.6099\ttraining's l2: 2080.26\n",
      "[24]\ttraining's rmse: 43.7405\ttraining's l2: 1913.23\n",
      "[25]\ttraining's rmse: 42.1101\ttraining's l2: 1773.26\n",
      "[26]\ttraining's rmse: 40.6553\ttraining's l2: 1652.85\n",
      "[27]\ttraining's rmse: 39.4069\ttraining's l2: 1552.9\n",
      "[28]\ttraining's rmse: 38.3006\ttraining's l2: 1466.93\n",
      "[29]\ttraining's rmse: 37.2711\ttraining's l2: 1389.13\n",
      "[30]\ttraining's rmse: 36.2761\ttraining's l2: 1315.96\n",
      "[31]\ttraining's rmse: 35.4212\ttraining's l2: 1254.66\n",
      "[32]\ttraining's rmse: 34.6767\ttraining's l2: 1202.47\n",
      "[33]\ttraining's rmse: 34.0623\ttraining's l2: 1160.24\n",
      "[34]\ttraining's rmse: 33.4079\ttraining's l2: 1116.09\n",
      "[35]\ttraining's rmse: 32.7362\ttraining's l2: 1071.66\n",
      "[36]\ttraining's rmse: 32.1456\ttraining's l2: 1033.34\n",
      "[37]\ttraining's rmse: 31.6779\ttraining's l2: 1003.49\n",
      "[38]\ttraining's rmse: 31.1333\ttraining's l2: 969.285\n",
      "[39]\ttraining's rmse: 30.6705\ttraining's l2: 940.677\n",
      "[40]\ttraining's rmse: 30.1365\ttraining's l2: 908.209\n",
      "[41]\ttraining's rmse: 29.7081\ttraining's l2: 882.571\n",
      "[42]\ttraining's rmse: 29.3312\ttraining's l2: 860.321\n",
      "[43]\ttraining's rmse: 29.0261\ttraining's l2: 842.516\n",
      "[44]\ttraining's rmse: 28.6721\ttraining's l2: 822.089\n",
      "[45]\ttraining's rmse: 28.3779\ttraining's l2: 805.304\n",
      "[46]\ttraining's rmse: 28.0196\ttraining's l2: 785.096\n",
      "[47]\ttraining's rmse: 27.7395\ttraining's l2: 769.48\n",
      "[48]\ttraining's rmse: 27.4445\ttraining's l2: 753.202\n",
      "[49]\ttraining's rmse: 27.1109\ttraining's l2: 735\n",
      "[50]\ttraining's rmse: 26.812\ttraining's l2: 718.885\n",
      "[51]\ttraining's rmse: 26.5767\ttraining's l2: 706.319\n",
      "[52]\ttraining's rmse: 26.3535\ttraining's l2: 694.509\n",
      "[53]\ttraining's rmse: 26.1226\ttraining's l2: 682.39\n",
      "[54]\ttraining's rmse: 25.9066\ttraining's l2: 671.151\n",
      "[55]\ttraining's rmse: 25.732\ttraining's l2: 662.136\n",
      "[56]\ttraining's rmse: 25.5599\ttraining's l2: 653.308\n",
      "[57]\ttraining's rmse: 25.3333\ttraining's l2: 641.777\n",
      "[58]\ttraining's rmse: 25.1443\ttraining's l2: 632.235\n",
      "[59]\ttraining's rmse: 24.992\ttraining's l2: 624.6\n",
      "[60]\ttraining's rmse: 24.8023\ttraining's l2: 615.156\n",
      "[61]\ttraining's rmse: 24.6775\ttraining's l2: 608.981\n",
      "[62]\ttraining's rmse: 24.4885\ttraining's l2: 599.689\n",
      "[63]\ttraining's rmse: 24.3225\ttraining's l2: 591.584\n",
      "[64]\ttraining's rmse: 24.2\ttraining's l2: 585.642\n",
      "[65]\ttraining's rmse: 24.0454\ttraining's l2: 578.18\n",
      "[66]\ttraining's rmse: 23.8871\ttraining's l2: 570.591\n",
      "[67]\ttraining's rmse: 23.7133\ttraining's l2: 562.318\n",
      "[68]\ttraining's rmse: 23.6074\ttraining's l2: 557.31\n",
      "[69]\ttraining's rmse: 23.4803\ttraining's l2: 551.324\n",
      "[70]\ttraining's rmse: 23.3699\ttraining's l2: 546.153\n",
      "[71]\ttraining's rmse: 23.2381\ttraining's l2: 540.01\n",
      "[72]\ttraining's rmse: 23.1232\ttraining's l2: 534.683\n",
      "[73]\ttraining's rmse: 23.0186\ttraining's l2: 529.854\n",
      "[74]\ttraining's rmse: 22.9351\ttraining's l2: 526.017\n",
      "[75]\ttraining's rmse: 22.8106\ttraining's l2: 520.323\n",
      "[76]\ttraining's rmse: 22.7267\ttraining's l2: 516.505\n",
      "[77]\ttraining's rmse: 22.6551\ttraining's l2: 513.252\n",
      "[78]\ttraining's rmse: 22.5706\ttraining's l2: 509.43\n",
      "[79]\ttraining's rmse: 22.474\ttraining's l2: 505.082\n",
      "[80]\ttraining's rmse: 22.4051\ttraining's l2: 501.99\n",
      "[81]\ttraining's rmse: 22.3314\ttraining's l2: 498.691\n",
      "[82]\ttraining's rmse: 22.2637\ttraining's l2: 495.673\n",
      "[83]\ttraining's rmse: 22.2047\ttraining's l2: 493.05\n",
      "[84]\ttraining's rmse: 22.0971\ttraining's l2: 488.281\n",
      "[85]\ttraining's rmse: 22.0112\ttraining's l2: 484.494\n",
      "[86]\ttraining's rmse: 21.9443\ttraining's l2: 481.551\n",
      "[87]\ttraining's rmse: 21.884\ttraining's l2: 478.908\n",
      "[88]\ttraining's rmse: 21.8185\ttraining's l2: 476.047\n",
      "[89]\ttraining's rmse: 21.748\ttraining's l2: 472.976\n",
      "[90]\ttraining's rmse: 21.6806\ttraining's l2: 470.049\n",
      "[91]\ttraining's rmse: 21.5854\ttraining's l2: 465.931\n",
      "[92]\ttraining's rmse: 21.4981\ttraining's l2: 462.166\n",
      "[93]\ttraining's rmse: 21.439\ttraining's l2: 459.631\n",
      "[94]\ttraining's rmse: 21.3277\ttraining's l2: 454.872\n",
      "[95]\ttraining's rmse: 21.2199\ttraining's l2: 450.283\n",
      "[96]\ttraining's rmse: 21.1537\ttraining's l2: 447.478\n",
      "[97]\ttraining's rmse: 21.0973\ttraining's l2: 445.097\n",
      "[98]\ttraining's rmse: 21.0135\ttraining's l2: 441.568\n",
      "[99]\ttraining's rmse: 20.9494\ttraining's l2: 438.877\n",
      "[100]\ttraining's rmse: 20.8977\ttraining's l2: 436.714\n",
      "Did not meet early stopping. Best iteration is:\n",
      "[100]\ttraining's rmse: 20.8977\ttraining's l2: 436.714\n"
     ]
    },
    {
     "data": {
      "text/plain": [
       "LGBMRegressor(objective='regression')"
      ]
     },
     "execution_count": 22,
     "metadata": {},
     "output_type": "execute_result"
    }
   ],
   "source": [
    "import lightgbm as lgb\n",
    "\n",
    "lgb_merge_df = lgb.LGBMRegressor(objective='regression')\n",
    "lgb_merge_df.fit(x_train1, y_train1,eval_metric=\"rmse\", \n",
    "    eval_set=[(x_train1, y_train1)],\n",
    "    verbose=True, \n",
    "    early_stopping_rounds = 1000)"
   ]
  },
  {
   "cell_type": "code",
   "execution_count": 23,
   "metadata": {},
   "outputs": [],
   "source": [
    "from sklearn.metrics import mean_squared_error,r2_score\n",
    "from math import sqrt"
   ]
  },
  {
   "cell_type": "code",
   "execution_count": 24,
   "metadata": {},
   "outputs": [],
   "source": [
    "pred_lgb_df=lgb_merge_df.predict(x_test1)"
   ]
  },
  {
   "cell_type": "code",
   "execution_count": 25,
   "metadata": {},
   "outputs": [
    {
     "data": {
      "text/plain": [
       "0.9810590547419297"
      ]
     },
     "execution_count": 25,
     "metadata": {},
     "output_type": "execute_result"
    }
   ],
   "source": [
    "r2_score(y_test1,pred_lgb_df)"
   ]
  },
  {
   "cell_type": "code",
   "execution_count": 26,
   "metadata": {},
   "outputs": [
    {
     "data": {
      "text/plain": [
       "43.02756578013458"
      ]
     },
     "execution_count": 26,
     "metadata": {},
     "output_type": "execute_result"
    }
   ],
   "source": [
    "np.sqrt(mean_squared_error(y_test1,pred_lgb_df))"
   ]
  },
  {
   "cell_type": "code",
   "execution_count": 27,
   "metadata": {},
   "outputs": [],
   "source": [
    "import shap"
   ]
  },
  {
   "cell_type": "code",
   "execution_count": 28,
   "metadata": {},
   "outputs": [],
   "source": [
    "explainer_xgb_static = shap.TreeExplainer(lgb_merge_df)\n",
    "shap_xgb_values = explainer_xgb_static(x_train1)"
   ]
  },
  {
   "cell_type": "code",
   "execution_count": 29,
   "metadata": {},
   "outputs": [
    {
     "data": {
      "image/png": "[encoded data removed]",
      "text/plain": [
       "<Figure size 576x396 with 2 Axes>"
      ]
     },
     "metadata": {
      "needs_background": "light"
     },
     "output_type": "display_data"
    }
   ],
   "source": [
    "sns.reset_orig()\n",
    "shap.plots.beeswarm(shap_xgb_values)"
   ]
  },
  {
   "cell_type": "code",
   "execution_count": 30,
   "metadata": {},
   "outputs": [],
   "source": [
    "df_more = train_1[int(len(df_1)*0.7) : ]"
   ]
  },
  {
   "cell_type": "code",
   "execution_count": 31,
   "metadata": {},
   "outputs": [],
   "source": [
    "train_more = df_more.drop(columns={'building_id','site_id','timestamp','meter_reading'},axis=1)\n",
    "test_more = df_more.loc[:,['meter_reading']]"
   ]
  },
  {
   "cell_type": "code",
   "execution_count": 32,
   "metadata": {},
   "outputs": [],
   "source": [
    "pred_xgb_more=lgb_merge_df.predict(train_more)"
   ]
  },
  {
   "cell_type": "code",
   "execution_count": 33,
   "metadata": {},
   "outputs": [
    {
     "data": {
      "text/plain": [
       "0.9756709397369457"
      ]
     },
     "execution_count": 33,
     "metadata": {},
     "output_type": "execute_result"
    }
   ],
   "source": [
    "r2_score(test_more,pred_xgb_more)"
   ]
  },
  {
   "cell_type": "code",
   "execution_count": 34,
   "metadata": {},
   "outputs": [
    {
     "data": {
      "text/plain": [
       "44.774866723507714"
      ]
     },
     "execution_count": 34,
     "metadata": {},
     "output_type": "execute_result"
    }
   ],
   "source": [
    "np.sqrt(mean_squared_error(test_more,pred_xgb_more))"
   ]
  },
  {
   "cell_type": "code",
   "execution_count": 92,
   "metadata": {},
   "outputs": [
    {
     "data": {
      "text/plain": [
       "2992"
      ]
     },
     "execution_count": 92,
     "metadata": {},
     "output_type": "execute_result"
    }
   ],
   "source": [
    "int(len(test_more)/100)"
   ]
  },
  {
   "cell_type": "code",
   "execution_count": 102,
   "metadata": {},
   "outputs": [
    {
     "name": "stdout",
     "output_type": "stream",
     "text": [
      "100%_finish!\r"
     ]
    }
   ],
   "source": [
    "acc = []\n",
    "\n",
    "for i in range(0,int(len(test_more)/10)):\n",
    "    accuracy = r2_score(test_more[0:1000+i*10],pred_xgb_more[0:1000+i*10])\n",
    "    \n",
    "    acc.append(accuracy)\n",
    "    \n",
    "    percent = float(i)*10/int(len(test_more)/100)\n",
    "    sys.stdout.write(\"%.4f\"%percent);\n",
    "    sys.stdout.write(\"%\\r\");\n",
    "    #sys.stdout.flush();\n",
    "\n",
    "sys.stdout.write(\"100%_finish!\\r\");\n",
    "sys.stdout.flush();"
   ]
  },
  {
   "cell_type": "code",
   "execution_count": 103,
   "metadata": {},
   "outputs": [
    {
     "data": {
      "text/plain": [
       "299208"
      ]
     },
     "execution_count": 103,
     "metadata": {},
     "output_type": "execute_result"
    }
   ],
   "source": [
    "int(len(test_more))"
   ]
  },
  {
   "cell_type": "code",
   "execution_count": 104,
   "metadata": {},
   "outputs": [
    {
     "data": {
      "image/png": "[encoded data removed]",
      "text/plain": [
       "<Figure size 720x360 with 1 Axes>"
      ]
     },
     "metadata": {
      "needs_background": "light"
     },
     "output_type": "display_data"
    }
   ],
   "source": [
    "fig = plt.figure(figsize=(10,5))\n",
    "sns.reset_orig()\n",
    "plt.title('Accuracy of Static Forecasting Results', fontsize = 25)\n",
    "plt.plot(acc,label = 'Accuracy: R^2')\n",
    "plt.xlabel('Time', fontsize = 20)\n",
    "plt.ylabel('Value', fontsize = 20)\n",
    "plt.legend(fontsize = 15)\n",
    "\n",
    "plt.show()"
   ]
  },
  {
   "cell_type": "code",
   "execution_count": 45,
   "metadata": {},
   "outputs": [],
   "source": [
    "df_features = train_1.drop(columns={'building_id','site_id','timestamp','meter_reading'},axis=1)\n",
    "df_target = train_1.loc[:,['meter_reading']]"
   ]
  },
  {
   "cell_type": "code",
   "execution_count": 46,
   "metadata": {},
   "outputs": [],
   "source": [
    "lgb_merge_df = lgb.LGBMRegressor(objective='regression')"
   ]
  },
  {
   "cell_type": "code",
   "execution_count": 49,
   "metadata": {},
   "outputs": [],
   "source": [
    "L = int(len(df_1)*0.7)\n",
    "S = int(len(df_1)*0.3)"
   ]
  },
  {
   "cell_type": "code",
   "execution_count": 50,
   "metadata": {},
   "outputs": [
    {
     "name": "stdout",
     "output_type": "stream",
     "text": [
      "100%_finish!\r"
     ]
    }
   ],
   "source": [
    "prediction_results = []\n",
    "\n",
    "for i in range(0,int(len(test_more)/S)):\n",
    "    df_x_train = df_features[ i*S : L + i*S]\n",
    "    df_y_train = df_target[ i*S : L + i*S]\n",
    "    \n",
    "    df_x_val = df_features[L + i*S : L + i*S + S]\n",
    "    df_y_val = df_target[L + i*S : L + i*S + S]\n",
    "\n",
    "    \n",
    "    \n",
    "    lgb_merge_df.fit(df_x_train, df_y_train,eval_metric=\"rmse\", \n",
    "        eval_set=[(df_x_train, df_y_train)],\n",
    "        verbose=False,\n",
    "        early_stopping_rounds = 1000)\n",
    "    \n",
    "    pred_dynamic=lgb_merge_df.predict(df_x_val)\n",
    "    \n",
    "    prediction_results.append(pred_dynamic)\n",
    "    \n",
    "    percent = float(i)*100/float(len(test_more)/S)\n",
    "    sys.stdout.write(\"%.4f\"%percent);\n",
    "    sys.stdout.write(\"%\\r\");\n",
    "    sys.stdout.flush();\n",
    "\n",
    "sys.stdout.write(\"100%_finish!\\r\");\n",
    "sys.stdout.flush();"
   ]
  },
  {
   "cell_type": "code",
   "execution_count": 51,
   "metadata": {},
   "outputs": [],
   "source": [
    "pred = np.array(prediction_results)"
   ]
  },
  {
   "cell_type": "code",
   "execution_count": 53,
   "metadata": {},
   "outputs": [],
   "source": [
    "pred_results =pred.flatten()"
   ]
  },
  {
   "cell_type": "code",
   "execution_count": 57,
   "metadata": {},
   "outputs": [
    {
     "data": {
      "text/plain": [
       "299181"
      ]
     },
     "execution_count": 57,
     "metadata": {},
     "output_type": "execute_result"
    }
   ],
   "source": [
    "len(pred_results)"
   ]
  },
  {
   "cell_type": "code",
   "execution_count": 107,
   "metadata": {},
   "outputs": [
    {
     "name": "stdout",
     "output_type": "stream",
     "text": [
      "100%_finish!\r"
     ]
    }
   ],
   "source": [
    "acc_dymanic = []\n",
    "\n",
    "for i in range(0,int((len(pred_results)-1000)/10)):\n",
    "    accuracy_dy = r2_score(test_more[0:1000+i*10],pred_results[0:1000+i*10])\n",
    "    \n",
    "    acc_dymanic.append(accuracy_dy)\n",
    "    percent = float(i)*10/(len(pred_results)/100)\n",
    "    sys.stdout.write(\"%.4f\"%percent);\n",
    "    sys.stdout.write(\"%\\r\");\n",
    "    #sys.stdout.flush();\n",
    "\n",
    "sys.stdout.write(\"100%_finish!\\r\");\n",
    "sys.stdout.flush();   "
   ]
  },
  {
   "cell_type": "code",
   "execution_count": 108,
   "metadata": {},
   "outputs": [
    {
     "data": {
      "image/png": "[encoded data removed]",
      "text/plain": [
       "<Figure size 720x360 with 1 Axes>"
      ]
     },
     "metadata": {
      "needs_background": "light"
     },
     "output_type": "display_data"
    }
   ],
   "source": [
    "fig = plt.figure(figsize=(10,5))\n",
    "plt.title('Accuracy of Dynamic Forecasting Results', fontsize = 25)\n",
    "plt.plot(acc,label = 'Accuracy: Static')\n",
    "plt.plot(acc_dymanic,label = 'Accuracy: Dynamic')\n",
    "plt.xlabel('Time', fontsize = 20)\n",
    "plt.ylabel('Value', fontsize = 20)\n",
    "plt.legend(fontsize = 15)\n",
    "\n",
    "plt.show()"
   ]
  },
  {
   "cell_type": "code",
   "execution_count": null,
   "metadata": {},
   "outputs": [],
   "source": []
  },
  {
   "cell_type": "code",
   "execution_count": 48,
   "metadata": {},
   "outputs": [],
   "source": [
    "import shap"
   ]
  },
  {
   "cell_type": "code",
   "execution_count": 60,
   "metadata": {},
   "outputs": [
    {
     "name": "stdout",
     "output_type": "stream",
     "text": [
      "100%_finish!\r"
     ]
    }
   ],
   "source": [
    "df_shap_results = pd.DataFrame()\n",
    "\n",
    "for i in range(0,int(len(test_more)/S)):\n",
    "    df_x_train = df_features[ i*S : L + i*S]\n",
    "    df_y_train = df_target[ i*S : L + i*S]\n",
    "    \n",
    "    df_x_val = df_features[L + i*S : L + i*S + S]\n",
    "    df_y_val = df_target[L + i*S : L + i*S + S]\n",
    "    \n",
    "    lgb_merge_df.fit(df_x_train, df_y_train,eval_metric=\"rmse\", \n",
    "        eval_set=[(df_x_train, df_y_train)],\n",
    "        verbose=False,\n",
    "        early_stopping_rounds = 1000)\n",
    "    \n",
    "    explainer_xgb_dynamic = shap.TreeExplainer(lgb_merge_df)\n",
    "    shap_xgb_values = explainer_xgb_dynamic(df_x_train)\n",
    "    shap_xgb_values = pd.DataFrame(shap_xgb_values.values)\n",
    "    \n",
    "    shap_values_update = []\n",
    "    for n in range(0, len(shap_xgb_values.columns)):\n",
    "        each_shap_value = (abs(shap_xgb_values[n]).sum())/len(shap_xgb_values)\n",
    "        \n",
    "        shap_values_update.append(each_shap_value)\n",
    "    \n",
    "    df_shap_results[i] = shap_values_update\n",
    "    del shap_values_update\n",
    "    \n",
    "    percent = float(i)*100/float(len(test_more)/S)\n",
    "    sys.stdout.write(\"%.4f\"%percent);\n",
    "    sys.stdout.write(\"%\\r\");\n",
    "    sys.stdout.flush();\n",
    "\n",
    "sys.stdout.write(\"100%_finish!\\r\");\n",
    "sys.stdout.flush();"
   ]
  },
  {
   "cell_type": "code",
   "execution_count": 62,
   "metadata": {},
   "outputs": [
    {
     "name": "stdout",
     "output_type": "stream",
     "text": [
      "100%_finish!\r"
     ]
    }
   ],
   "source": [
    "prediction_results_up = []\n",
    "\n",
    "df_shap_update = pd.DataFrame()\n",
    "df_cols = pd.DataFrame(x_train1.columns)\n",
    "df_shap_update['Features'] = df_cols[0]\n",
    "\n",
    "for i in range(0,len(df_shap_results.columns)) :\n",
    "    \n",
    "    df_shap_update['shap_value'] = df_shap_results[i]\n",
    "    df_shap = df_shap_update.sort_values(by = 'shap_value').reset_index()\n",
    "    \n",
    "    df_x_train = df_features[ i*S : L + i*S]\n",
    "    df_y_train = df_target[ i*S : L + i*S]\n",
    "    \n",
    "    df_x_val = df_features[L + i*S : L + i*S + S]\n",
    "    df_y_val = df_target[L + i*S : L + i*S + S]\n",
    "    \n",
    "    \n",
    "\n",
    "    remove_features = df_shap['Features'][0:40].values.tolist()\n",
    "    \n",
    "    df_x_train_up = df_x_train.drop(remove_features,axis=1)\n",
    "    df_x_val_up = df_x_val.drop(remove_features,axis=1)\n",
    "    \n",
    "    lgb_merge_df.fit(df_x_train_up, df_y_train,eval_metric=\"rmse\", \n",
    "        eval_set=[(df_x_train_up, df_y_train)],\n",
    "        verbose=False,\n",
    "        early_stopping_rounds = 1000)\n",
    "    \n",
    "    pred_dynamic_up=lgb_merge_df.predict(df_x_val_up)\n",
    "    \n",
    "    prediction_results_up.append(pred_dynamic_up)\n",
    "    \n",
    "    percent = float(i)*100/float(len(df_shap_results.columns))\n",
    "    sys.stdout.write(\"%.4f\"%percent);\n",
    "    sys.stdout.write(\"%\\r\");\n",
    "    sys.stdout.flush();\n",
    "\n",
    "sys.stdout.write(\"100%_finish!\\r\");\n",
    "sys.stdout.flush();"
   ]
  },
  {
   "cell_type": "code",
   "execution_count": 63,
   "metadata": {},
   "outputs": [],
   "source": [
    "pred_up = np.array(prediction_results_up)"
   ]
  },
  {
   "cell_type": "code",
   "execution_count": 64,
   "metadata": {},
   "outputs": [],
   "source": [
    "pred_results_up =pred_up.flatten()"
   ]
  },
  {
   "cell_type": "code",
   "execution_count": 110,
   "metadata": {},
   "outputs": [
    {
     "name": "stdout",
     "output_type": "stream",
     "text": [
      "100%_finish!\r"
     ]
    }
   ],
   "source": [
    "acc_dymanic_up = []\n",
    "\n",
    "for i in range(0,int((len(pred_results_up)-1000)/10)):\n",
    "    accuracy_dy_up = r2_score(test_more[0:1000+i*10],pred_results_up[0:1000+i*10])\n",
    "    \n",
    "    acc_dymanic_up.append(accuracy_dy_up)\n",
    "    \n",
    "    percent = float(i)*10/float((len(test_more)/100))\n",
    "    sys.stdout.write(\"%.4f\"%percent);\n",
    "    sys.stdout.write(\"%\\r\");\n",
    "    #sys.stdout.flush();\n",
    "\n",
    "sys.stdout.write(\"100%_finish!\\r\");\n",
    "sys.stdout.flush();"
   ]
  },
  {
   "cell_type": "code",
   "execution_count": 118,
   "metadata": {},
   "outputs": [
    {
     "data": {
      "image/png": "[encoded data removed]",
      "text/plain": [
       "<Figure size 720x360 with 1 Axes>"
      ]
     },
     "metadata": {
      "needs_background": "light"
     },
     "output_type": "display_data"
    }
   ],
   "source": [
    "fig = plt.figure(figsize=(10,5))\n",
    "plt.title('Accuracy of ASHRAE (10%)', fontsize = 25)\n",
    "plt.plot(acc[:10000],label = 'Accuracy: Static')\n",
    "plt.plot(acc_dymanic[:10000],label = 'Accuracy: Dynamic')\n",
    "plt.plot(acc_dymanic_up[:10000],label = 'Optimized Accuracy: Dynamic')\n",
    "plt.xlabel('Time', fontsize = 20)\n",
    "plt.ylabel('Value', fontsize = 20)\n",
    "plt.legend(fontsize = 12)\n",
    "\n",
    "plt.show()"
   ]
  },
  {
   "cell_type": "code",
   "execution_count": null,
   "metadata": {},
   "outputs": [],
   "source": []
  },
  {
   "cell_type": "code",
   "execution_count": null,
   "metadata": {},
   "outputs": [],
   "source": []
  },
  {
   "cell_type": "code",
   "execution_count": null,
   "metadata": {},
   "outputs": [],
   "source": []
  }
 ],
 "metadata": {
  "kernelspec": {
   "display_name": "Python 3",
   "language": "python",
   "name": "python3"
  },
  "language_info": {
   "codemirror_mode": {
    "name": "ipython",
    "version": 3
   },
   "file_extension": ".py",
   "mimetype": "text/x-python",
   "name": "python",
   "nbconvert_exporter": "python",
   "pygments_lexer": "ipython3",
   "version": "3.8.5"
  }
 },
 "nbformat": 4,
 "nbformat_minor": 4
}
