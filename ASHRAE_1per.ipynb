{
 "cells": [
  {
   "cell_type": "code",
   "execution_count": 1,
   "metadata": {},
   "outputs": [],
   "source": [
    "import numpy as np\n",
    "import pandas as pd\n",
    "import matplotlib\n",
    "import matplotlib.pyplot as plt\n",
    "import seaborn as sns\n",
    "import warnings\n",
    "import gc\n",
    "import sys\n",
    "warnings.simplefilter('ignore')\n",
    "matplotlib.rcParams['figure.dpi'] = 100\n",
    "sns.set()\n",
    "%matplotlib inline"
   ]
  },
  {
   "cell_type": "code",
   "execution_count": 2,
   "metadata": {},
   "outputs": [],
   "source": [
    "metadata_df = pd.read_csv('/Users/yuyizhang/Documents/forecasting/Energy_Data/ASHRAE_data/building_metadata.csv')\n",
    "train_df = pd.read_csv('/Users/yuyizhang/Documents/forecasting/Energy_Data/ASHRAE_data/train.csv', parse_dates=['timestamp'])\n",
    "weather_train_df = pd.read_csv('/Users/yuyizhang/Documents/forecasting/Energy_Data/ASHRAE_data/weather_train.csv', parse_dates=['timestamp'])"
   ]
  },
  {
   "cell_type": "code",
   "execution_count": 3,
   "metadata": {},
   "outputs": [
    {
     "name": "stdout",
     "output_type": "stream",
     "text": [
      "(1449, 6)\n",
      "(20216100, 4)\n",
      "(139773, 9)\n"
     ]
    }
   ],
   "source": [
    "print(metadata_df.shape)\n",
    "print(train_df.shape)\n",
    "print(weather_train_df.shape)"
   ]
  },
  {
   "cell_type": "code",
   "execution_count": 4,
   "metadata": {},
   "outputs": [],
   "source": [
    "train = train_df.merge(metadata_df, on='building_id', how='left')\n",
    "train = train.merge(weather_train_df, on=['site_id', 'timestamp'], how='left')"
   ]
  },
  {
   "cell_type": "code",
   "execution_count": 5,
   "metadata": {},
   "outputs": [],
   "source": [
    "del weather_train_df, metadata_df\n",
    "gc.collect();"
   ]
  },
  {
   "cell_type": "code",
   "execution_count": 6,
   "metadata": {},
   "outputs": [],
   "source": [
    "#format datetime\n",
    "train['timestamp']= pd.to_datetime(train['timestamp'],format='%Y-%m-%d %H:%M:%S')"
   ]
  },
  {
   "cell_type": "code",
   "execution_count": 7,
   "metadata": {},
   "outputs": [
    {
     "name": "stdout",
     "output_type": "stream",
     "text": [
      "Feature\"year_built\" has 12127645 NaN\n",
      "Feature\"year_built\" has 0.5999003269671203 NaN\n",
      "Feature\"floor_count\" has 16709167 NaN\n",
      "Feature\"floor_count\" has 0.826527718006935 NaN\n",
      "Feature\"air_temperature\" has 96658 NaN\n",
      "Feature\"air_temperature\" has 0.004781238715677109 NaN\n",
      "Feature\"cloud_coverage\" has 8825365 NaN\n",
      "Feature\"cloud_coverage\" has 0.43655131306236117 NaN\n",
      "Feature\"dew_temperature\" has 100140 NaN\n",
      "Feature\"dew_temperature\" has 0.00495347767373529 NaN\n",
      "Feature\"precip_depth_1_hr\" has 3749023 NaN\n",
      "Feature\"precip_depth_1_hr\" has 0.18544739094088375 NaN\n",
      "Feature\"sea_level_pressure\" has 1231669 NaN\n",
      "Feature\"sea_level_pressure\" has 0.06092515371411895 NaN\n",
      "Feature\"wind_direction\" has 1449048 NaN\n",
      "Feature\"wind_direction\" has 0.0716779200736047 NaN\n",
      "Feature\"wind_speed\" has 143676 NaN\n",
      "Feature\"wind_speed\" has 0.007107008770237583 NaN\n"
     ]
    }
   ],
   "source": [
    "# count the number of NaN\n",
    "def find_nan(df):\n",
    "    nan_lists = {}\n",
    "    for col in df.columns:\n",
    "        nan_counter = 0\n",
    "        for nan in df[col].isnull():\n",
    "            if nan:\n",
    "                nan_counter+=1\n",
    "                nan_lists[col] = nan_counter\n",
    "    for k, v in nan_lists.items():\n",
    "        print('Feature\"{}\" has {} NaN'.format(k,v))\n",
    "        print('Feature\"{}\" has {} NaN'.format(k,v/len(df)))\n",
    "\n",
    "find_nan(train)"
   ]
  },
  {
   "cell_type": "code",
   "execution_count": 8,
   "metadata": {},
   "outputs": [],
   "source": [
    "train_1 = train.dropna(axis = 0, how = 'any')"
   ]
  },
  {
   "cell_type": "code",
   "execution_count": 9,
   "metadata": {},
   "outputs": [],
   "source": [
    "# Below function extracts date related features from datetime\n",
    "def create_date_featues(df):\n",
    "\n",
    "    df['Year'] = pd.to_datetime(train_1['timestamp']).dt.year\n",
    "    df['Month'] = pd.to_datetime(train_1['timestamp']).dt.month\n",
    "    df['Day'] = pd.to_datetime(train_1['timestamp']).dt.day\n",
    "    df['Hour'] = pd.to_datetime(train_1['timestamp']).dt.hour\n",
    "    df['Minute'] = pd.to_datetime(train_1['timestamp']).dt.minute\n",
    "    \n",
    "    return df"
   ]
  },
  {
   "cell_type": "code",
   "execution_count": 10,
   "metadata": {},
   "outputs": [],
   "source": [
    "train_1 = create_date_featues(train_1)"
   ]
  },
  {
   "cell_type": "code",
   "execution_count": 11,
   "metadata": {},
   "outputs": [],
   "source": [
    "for col in ['meter']:\n",
    "    train_1 = pd.get_dummies(train_1, columns=[col])"
   ]
  },
  {
   "cell_type": "code",
   "execution_count": 12,
   "metadata": {},
   "outputs": [],
   "source": [
    "for col in ['primary_use']:\n",
    "    train_1 = pd.get_dummies(train_1, columns=[col])"
   ]
  },
  {
   "cell_type": "code",
   "execution_count": 13,
   "metadata": {},
   "outputs": [],
   "source": [
    "for col in ['floor_count']:\n",
    "    train_1 = pd.get_dummies(train_1, columns=[col])"
   ]
  },
  {
   "cell_type": "code",
   "execution_count": 14,
   "metadata": {},
   "outputs": [],
   "source": [
    "for col in ['cloud_coverage']:\n",
    "    train_1 = pd.get_dummies(train_1, columns=[col])"
   ]
  },
  {
   "cell_type": "code",
   "execution_count": 15,
   "metadata": {},
   "outputs": [],
   "source": [
    "for col in ['year_built']:\n",
    "    train_1 = pd.get_dummies(train_1, columns=[col])"
   ]
  },
  {
   "cell_type": "code",
   "execution_count": 16,
   "metadata": {},
   "outputs": [],
   "source": [
    "for col in ['precip_depth_1_hr']:\n",
    "    train_1 = pd.get_dummies(train_1, columns=[col])"
   ]
  },
  {
   "cell_type": "code",
   "execution_count": 17,
   "metadata": {},
   "outputs": [
    {
     "data": {
      "text/plain": [
       "(321728, 102)"
      ]
     },
     "execution_count": 17,
     "metadata": {},
     "output_type": "execute_result"
    }
   ],
   "source": [
    "train_1.shape"
   ]
  },
  {
   "cell_type": "code",
   "execution_count": 18,
   "metadata": {},
   "outputs": [],
   "source": [
    "df_1 = train_1[:int(len(train_1)*0.01)]"
   ]
  },
  {
   "cell_type": "code",
   "execution_count": 19,
   "metadata": {},
   "outputs": [],
   "source": [
    "train_set = df_1[ : int(len(df_1)*0.7)]\n",
    "test_set = df_1[int(len(df_1)*0.7) : ]"
   ]
  },
  {
   "cell_type": "code",
   "execution_count": 20,
   "metadata": {},
   "outputs": [
    {
     "name": "stdout",
     "output_type": "stream",
     "text": [
      "(2251, 102)\n",
      "(966, 102)\n"
     ]
    }
   ],
   "source": [
    "print(train_set.shape)\n",
    "print(test_set.shape)"
   ]
  },
  {
   "cell_type": "code",
   "execution_count": 21,
   "metadata": {},
   "outputs": [],
   "source": [
    "x_train1 = train_set.drop(columns={'building_id','site_id','timestamp','meter_reading'},axis=1)\n",
    "y_train1 = train_set.loc[:,['meter_reading']]\n",
    "\n",
    "x_test1=test_set.drop(columns={'building_id','site_id','timestamp','meter_reading'},axis=1)\n",
    "y_test1=test_set.loc[:,['meter_reading']]"
   ]
  },
  {
   "cell_type": "code",
   "execution_count": 22,
   "metadata": {
    "collapsed": true,
    "jupyter": {
     "outputs_hidden": true
    }
   },
   "outputs": [
    {
     "name": "stdout",
     "output_type": "stream",
     "text": [
      "[1]\ttraining's rmse: 228.87\ttraining's l2: 52381.3\n",
      "Training until validation scores don't improve for 1000 rounds\n",
      "[2]\ttraining's rmse: 206.607\ttraining's l2: 42686.5\n",
      "[3]\ttraining's rmse: 186.639\ttraining's l2: 34834.1\n",
      "[4]\ttraining's rmse: 168.73\ttraining's l2: 28469.9\n",
      "[5]\ttraining's rmse: 152.679\ttraining's l2: 23310.9\n",
      "[6]\ttraining's rmse: 138.319\ttraining's l2: 19132.3\n",
      "[7]\ttraining's rmse: 125.446\ttraining's l2: 15736.7\n",
      "[8]\ttraining's rmse: 113.927\ttraining's l2: 12979.2\n",
      "[9]\ttraining's rmse: 103.659\ttraining's l2: 10745.1\n",
      "[10]\ttraining's rmse: 94.4937\ttraining's l2: 8929.06\n",
      "[11]\ttraining's rmse: 86.3671\ttraining's l2: 7459.27\n",
      "[12]\ttraining's rmse: 78.9188\ttraining's l2: 6228.18\n",
      "[13]\ttraining's rmse: 72.3049\ttraining's l2: 5227.99\n",
      "[14]\ttraining's rmse: 66.4279\ttraining's l2: 4412.67\n",
      "[15]\ttraining's rmse: 61.2453\ttraining's l2: 3750.99\n",
      "[16]\ttraining's rmse: 56.632\ttraining's l2: 3207.18\n",
      "[17]\ttraining's rmse: 52.5357\ttraining's l2: 2760\n",
      "[18]\ttraining's rmse: 48.9465\ttraining's l2: 2395.76\n",
      "[19]\ttraining's rmse: 45.7533\ttraining's l2: 2093.36\n",
      "[20]\ttraining's rmse: 42.9839\ttraining's l2: 1847.61\n",
      "[21]\ttraining's rmse: 40.5647\ttraining's l2: 1645.5\n",
      "[22]\ttraining's rmse: 38.2549\ttraining's l2: 1463.44\n",
      "[23]\ttraining's rmse: 36.4308\ttraining's l2: 1327.2\n",
      "[24]\ttraining's rmse: 34.8173\ttraining's l2: 1212.24\n",
      "[25]\ttraining's rmse: 33.3761\ttraining's l2: 1113.96\n",
      "[26]\ttraining's rmse: 32.1196\ttraining's l2: 1031.67\n",
      "[27]\ttraining's rmse: 31.0432\ttraining's l2: 963.679\n",
      "[28]\ttraining's rmse: 30.1336\ttraining's l2: 908.032\n",
      "[29]\ttraining's rmse: 29.3688\ttraining's l2: 862.529\n",
      "[30]\ttraining's rmse: 28.5387\ttraining's l2: 814.46\n",
      "[31]\ttraining's rmse: 27.6925\ttraining's l2: 766.874\n",
      "[32]\ttraining's rmse: 27.0758\ttraining's l2: 733.102\n",
      "[33]\ttraining's rmse: 26.5829\ttraining's l2: 706.652\n",
      "[34]\ttraining's rmse: 26.1228\ttraining's l2: 682.4\n",
      "[35]\ttraining's rmse: 25.6328\ttraining's l2: 657.04\n",
      "[36]\ttraining's rmse: 25.3254\ttraining's l2: 641.374\n",
      "[37]\ttraining's rmse: 25.0743\ttraining's l2: 628.723\n",
      "[38]\ttraining's rmse: 24.8526\ttraining's l2: 617.651\n",
      "[39]\ttraining's rmse: 24.5284\ttraining's l2: 601.643\n",
      "[40]\ttraining's rmse: 24.1339\ttraining's l2: 582.443\n",
      "[41]\ttraining's rmse: 23.8202\ttraining's l2: 567.403\n",
      "[42]\ttraining's rmse: 23.5368\ttraining's l2: 553.98\n",
      "[43]\ttraining's rmse: 23.2746\ttraining's l2: 541.707\n",
      "[44]\ttraining's rmse: 23.0766\ttraining's l2: 532.528\n",
      "[45]\ttraining's rmse: 22.7448\ttraining's l2: 517.328\n",
      "[46]\ttraining's rmse: 22.6335\ttraining's l2: 512.277\n",
      "[47]\ttraining's rmse: 22.3462\ttraining's l2: 499.352\n",
      "[48]\ttraining's rmse: 22.0556\ttraining's l2: 486.452\n",
      "[49]\ttraining's rmse: 21.8927\ttraining's l2: 479.291\n",
      "[50]\ttraining's rmse: 21.6824\ttraining's l2: 470.125\n",
      "[51]\ttraining's rmse: 21.4941\ttraining's l2: 461.996\n",
      "[52]\ttraining's rmse: 21.3328\ttraining's l2: 455.09\n",
      "[53]\ttraining's rmse: 21.1967\ttraining's l2: 449.301\n",
      "[54]\ttraining's rmse: 20.9292\ttraining's l2: 438.031\n",
      "[55]\ttraining's rmse: 20.7491\ttraining's l2: 430.527\n",
      "[56]\ttraining's rmse: 20.4997\ttraining's l2: 420.236\n",
      "[57]\ttraining's rmse: 20.3906\ttraining's l2: 415.776\n",
      "[58]\ttraining's rmse: 20.2107\ttraining's l2: 408.471\n",
      "[59]\ttraining's rmse: 20.102\ttraining's l2: 404.089\n",
      "[60]\ttraining's rmse: 20.0144\ttraining's l2: 400.577\n",
      "[61]\ttraining's rmse: 19.6907\ttraining's l2: 387.723\n",
      "[62]\ttraining's rmse: 19.488\ttraining's l2: 379.783\n",
      "[63]\ttraining's rmse: 19.4043\ttraining's l2: 376.526\n",
      "[64]\ttraining's rmse: 19.3185\ttraining's l2: 373.203\n",
      "[65]\ttraining's rmse: 19.1613\ttraining's l2: 367.155\n",
      "[66]\ttraining's rmse: 19.0469\ttraining's l2: 362.786\n",
      "[67]\ttraining's rmse: 18.9108\ttraining's l2: 357.619\n",
      "[68]\ttraining's rmse: 18.7638\ttraining's l2: 352.081\n",
      "[69]\ttraining's rmse: 18.52\ttraining's l2: 342.989\n",
      "[70]\ttraining's rmse: 18.3707\ttraining's l2: 337.481\n",
      "[71]\ttraining's rmse: 18.1236\ttraining's l2: 328.465\n",
      "[72]\ttraining's rmse: 17.8647\ttraining's l2: 319.146\n",
      "[73]\ttraining's rmse: 17.7957\ttraining's l2: 316.686\n",
      "[74]\ttraining's rmse: 17.6771\ttraining's l2: 312.481\n",
      "[75]\ttraining's rmse: 17.595\ttraining's l2: 309.582\n",
      "[76]\ttraining's rmse: 17.4007\ttraining's l2: 302.785\n",
      "[77]\ttraining's rmse: 17.2621\ttraining's l2: 297.98\n",
      "[78]\ttraining's rmse: 17.1614\ttraining's l2: 294.513\n",
      "[79]\ttraining's rmse: 17.0725\ttraining's l2: 291.472\n",
      "[80]\ttraining's rmse: 16.9775\ttraining's l2: 288.237\n",
      "[81]\ttraining's rmse: 16.8825\ttraining's l2: 285.018\n",
      "[82]\ttraining's rmse: 16.8097\ttraining's l2: 282.567\n",
      "[83]\ttraining's rmse: 16.7041\ttraining's l2: 279.027\n",
      "[84]\ttraining's rmse: 16.54\ttraining's l2: 273.573\n",
      "[85]\ttraining's rmse: 16.4583\ttraining's l2: 270.876\n",
      "[86]\ttraining's rmse: 16.3381\ttraining's l2: 266.935\n",
      "[87]\ttraining's rmse: 16.2817\ttraining's l2: 265.094\n",
      "[88]\ttraining's rmse: 16.2428\ttraining's l2: 263.828\n",
      "[89]\ttraining's rmse: 16.1528\ttraining's l2: 260.912\n",
      "[90]\ttraining's rmse: 16.0991\ttraining's l2: 259.18\n",
      "[91]\ttraining's rmse: 16.0097\ttraining's l2: 256.31\n",
      "[92]\ttraining's rmse: 15.9264\ttraining's l2: 253.651\n",
      "[93]\ttraining's rmse: 15.8537\ttraining's l2: 251.34\n",
      "[94]\ttraining's rmse: 15.7785\ttraining's l2: 248.963\n",
      "[95]\ttraining's rmse: 15.7176\ttraining's l2: 247.044\n",
      "[96]\ttraining's rmse: 15.6477\ttraining's l2: 244.852\n",
      "[97]\ttraining's rmse: 15.5832\ttraining's l2: 242.837\n",
      "[98]\ttraining's rmse: 15.5064\ttraining's l2: 240.448\n",
      "[99]\ttraining's rmse: 15.4293\ttraining's l2: 238.062\n",
      "[100]\ttraining's rmse: 15.3865\ttraining's l2: 236.745\n",
      "Did not meet early stopping. Best iteration is:\n",
      "[100]\ttraining's rmse: 15.3865\ttraining's l2: 236.745\n"
     ]
    },
    {
     "data": {
      "text/plain": [
       "LGBMRegressor(objective='regression')"
      ]
     },
     "execution_count": 22,
     "metadata": {},
     "output_type": "execute_result"
    }
   ],
   "source": [
    "import lightgbm as lgb\n",
    "\n",
    "lgb_merge_df = lgb.LGBMRegressor(objective='regression')\n",
    "lgb_merge_df.fit(x_train1, y_train1,eval_metric=\"rmse\", \n",
    "    eval_set=[(x_train1, y_train1)],\n",
    "    verbose=True, \n",
    "    early_stopping_rounds = 1000)"
   ]
  },
  {
   "cell_type": "code",
   "execution_count": 23,
   "metadata": {},
   "outputs": [],
   "source": [
    "from sklearn.metrics import mean_squared_error,r2_score\n",
    "from math import sqrt"
   ]
  },
  {
   "cell_type": "code",
   "execution_count": 24,
   "metadata": {},
   "outputs": [],
   "source": [
    "pred_lgb_df=lgb_merge_df.predict(x_test1)"
   ]
  },
  {
   "cell_type": "code",
   "execution_count": 25,
   "metadata": {},
   "outputs": [
    {
     "data": {
      "text/plain": [
       "0.9800203164363276"
      ]
     },
     "execution_count": 25,
     "metadata": {},
     "output_type": "execute_result"
    }
   ],
   "source": [
    "r2_score(y_test1,pred_lgb_df)"
   ]
  },
  {
   "cell_type": "code",
   "execution_count": 26,
   "metadata": {},
   "outputs": [
    {
     "data": {
      "text/plain": [
       "36.82394998464316"
      ]
     },
     "execution_count": 26,
     "metadata": {},
     "output_type": "execute_result"
    }
   ],
   "source": [
    "np.sqrt(mean_squared_error(y_test1,pred_lgb_df))"
   ]
  },
  {
   "cell_type": "code",
   "execution_count": 27,
   "metadata": {},
   "outputs": [],
   "source": [
    "import shap"
   ]
  },
  {
   "cell_type": "code",
   "execution_count": 28,
   "metadata": {},
   "outputs": [],
   "source": [
    "explainer_xgb_static = shap.TreeExplainer(lgb_merge_df)\n",
    "shap_xgb_values = explainer_xgb_static(x_train1)"
   ]
  },
  {
   "cell_type": "code",
   "execution_count": 29,
   "metadata": {},
   "outputs": [
    {
     "data": {
      "image/png": "[encoded data removed]",
      "text/plain": [
       "<Figure size 576x396 with 2 Axes>"
      ]
     },
     "metadata": {
      "needs_background": "light"
     },
     "output_type": "display_data"
    }
   ],
   "source": [
    "sns.reset_orig()\n",
    "shap.plots.beeswarm(shap_xgb_values)"
   ]
  },
  {
   "cell_type": "code",
   "execution_count": null,
   "metadata": {},
   "outputs": [],
   "source": []
  },
  {
   "cell_type": "code",
   "execution_count": 30,
   "metadata": {},
   "outputs": [],
   "source": [
    "df_more = train_1[int(len(df_1)*0.7) : ]"
   ]
  },
  {
   "cell_type": "code",
   "execution_count": 31,
   "metadata": {},
   "outputs": [],
   "source": [
    "train_more = df_more.drop(columns={'building_id','site_id','timestamp','meter_reading'},axis=1)\n",
    "test_more = df_more.loc[:,['meter_reading']]"
   ]
  },
  {
   "cell_type": "code",
   "execution_count": 32,
   "metadata": {},
   "outputs": [],
   "source": [
    "pred_xgb_more=lgb_merge_df.predict(train_more)"
   ]
  },
  {
   "cell_type": "code",
   "execution_count": 33,
   "metadata": {},
   "outputs": [
    {
     "data": {
      "text/plain": [
       "0.9370368118506329"
      ]
     },
     "execution_count": 33,
     "metadata": {},
     "output_type": "execute_result"
    }
   ],
   "source": [
    "r2_score(test_more,pred_xgb_more)"
   ]
  },
  {
   "cell_type": "code",
   "execution_count": 34,
   "metadata": {},
   "outputs": [
    {
     "data": {
      "text/plain": [
       "71.90831074367748"
      ]
     },
     "execution_count": 34,
     "metadata": {},
     "output_type": "execute_result"
    }
   ],
   "source": [
    "np.sqrt(mean_squared_error(test_more,pred_xgb_more))"
   ]
  },
  {
   "cell_type": "code",
   "execution_count": 49,
   "metadata": {},
   "outputs": [
    {
     "data": {
      "text/plain": [
       "319477"
      ]
     },
     "execution_count": 49,
     "metadata": {},
     "output_type": "execute_result"
    }
   ],
   "source": [
    "int(len(pred_xgb_more))"
   ]
  },
  {
   "cell_type": "code",
   "execution_count": 40,
   "metadata": {},
   "outputs": [
    {
     "name": "stdout",
     "output_type": "stream",
     "text": [
      "100%_finish!\r"
     ]
    }
   ],
   "source": [
    "acc = []\n",
    "\n",
    "for i in range(0,int(len(pred_xgb_more)/100)):\n",
    "    accuracy = r2_score(test_more[0:100+i*100],pred_xgb_more[0:100+i*100])\n",
    "    \n",
    "    acc.append(accuracy)\n",
    "\n",
    "    percent = float(i)*100/int(len(test_more)/100)\n",
    "    sys.stdout.write(\"%.4f\"%percent);\n",
    "    sys.stdout.write(\"%\\r\");\n",
    "    #sys.stdout.flush();\n",
    "\n",
    "sys.stdout.write(\"100%_finish!\\r\");\n",
    "sys.stdout.flush();"
   ]
  },
  {
   "cell_type": "code",
   "execution_count": 41,
   "metadata": {},
   "outputs": [
    {
     "data": {
      "image/png": "[encoded data removed]",
      "text/plain": [
       "<Figure size 720x360 with 1 Axes>"
      ]
     },
     "metadata": {
      "needs_background": "light"
     },
     "output_type": "display_data"
    }
   ],
   "source": [
    "fig = plt.figure(figsize=(10,5))\n",
    "sns.reset_orig()\n",
    "plt.title('Accuracy of Static Forecasting Results', fontsize = 30)\n",
    "plt.plot(acc[:4500],label = 'Accuracy: R^2')\n",
    "plt.xlabel('Time', fontsize = 25)\n",
    "plt.ylabel('Value', fontsize = 25)\n",
    "plt.legend(fontsize = 22)\n",
    "\n",
    "plt.show()"
   ]
  },
  {
   "cell_type": "code",
   "execution_count": 42,
   "metadata": {},
   "outputs": [],
   "source": [
    "df_features = train_1.drop(columns={'building_id','site_id','timestamp','meter_reading'},axis=1)\n",
    "df_target = train_1.loc[:,['meter_reading']]"
   ]
  },
  {
   "cell_type": "code",
   "execution_count": 43,
   "metadata": {},
   "outputs": [],
   "source": [
    "lgb_merge_df = lgb.LGBMRegressor(objective='regression')"
   ]
  },
  {
   "cell_type": "code",
   "execution_count": 44,
   "metadata": {},
   "outputs": [],
   "source": [
    "L = int(len(df_1)*0.7)\n",
    "S = int(len(df_1)*0.3)"
   ]
  },
  {
   "cell_type": "code",
   "execution_count": 45,
   "metadata": {},
   "outputs": [
    {
     "name": "stdout",
     "output_type": "stream",
     "text": [
      "100%_finish!\r"
     ]
    }
   ],
   "source": [
    "prediction_results = []\n",
    "\n",
    "for i in range(0,int(len(test_more)/S)):\n",
    "    df_x_train = df_features[ i*S : L + i*S]\n",
    "    df_y_train = df_target[ i*S : L + i*S]\n",
    "    \n",
    "    df_x_val = df_features[L + i*S : L + i*S + S]\n",
    "    df_y_val = df_target[L + i*S : L + i*S + S]\n",
    "    \n",
    "    \n",
    "    \n",
    "    lgb_merge_df.fit(df_x_train, df_y_train,eval_metric=\"rmse\", \n",
    "        eval_set=[(df_x_train, df_y_train)],\n",
    "        verbose=False,\n",
    "        early_stopping_rounds = 1000)\n",
    "    \n",
    "    pred_dynamic=lgb_merge_df.predict(df_x_val)\n",
    "    \n",
    "    prediction_results.append(pred_dynamic)\n",
    "\n",
    "    percent = float(i)*500/float(len(test_more)/100)\n",
    "    sys.stdout.write(\"%.4f\"%percent);\n",
    "    sys.stdout.write(\"%\\r\");\n",
    "    sys.stdout.flush();\n",
    "\n",
    "sys.stdout.write(\"100%_finish!\\r\");\n",
    "sys.stdout.flush();"
   ]
  },
  {
   "cell_type": "code",
   "execution_count": 46,
   "metadata": {},
   "outputs": [],
   "source": [
    "pred = np.array(prediction_results)"
   ]
  },
  {
   "cell_type": "code",
   "execution_count": 47,
   "metadata": {},
   "outputs": [],
   "source": [
    "pred_results =pred.flatten()"
   ]
  },
  {
   "cell_type": "code",
   "execution_count": 51,
   "metadata": {},
   "outputs": [
    {
     "data": {
      "text/plain": [
       "3194"
      ]
     },
     "execution_count": 51,
     "metadata": {},
     "output_type": "execute_result"
    }
   ],
   "source": [
    "int(len(pred_results)/100)"
   ]
  },
  {
   "cell_type": "code",
   "execution_count": 59,
   "metadata": {},
   "outputs": [
    {
     "name": "stdout",
     "output_type": "stream",
     "text": [
      "100%_finish!\r"
     ]
    }
   ],
   "source": [
    "acc_dymanic = []\n",
    "\n",
    "for i in range(int(len(pred_results)/100)):\n",
    "    accuracy_dy = r2_score(test_more[0:100+i*100],pred_results[0:100+i*100])\n",
    "    \n",
    "    acc_dymanic.append(accuracy_dy)\n",
    "    \n",
    "    percent = float(i)*100/float(len(test_more)/100)\n",
    "    sys.stdout.write(\"%.4f\"%percent);\n",
    "    sys.stdout.write(\"%\\r\");\n",
    "    #sys.stdout.flush();\n",
    "\n",
    "sys.stdout.write(\"100%_finish!\\r\");\n",
    "sys.stdout.flush();"
   ]
  },
  {
   "cell_type": "code",
   "execution_count": 60,
   "metadata": {},
   "outputs": [
    {
     "data": {
      "image/png": "[encoded data removed]",
      "text/plain": [
       "<Figure size 720x360 with 1 Axes>"
      ]
     },
     "metadata": {
      "needs_background": "light"
     },
     "output_type": "display_data"
    }
   ],
   "source": [
    "fig = plt.figure(figsize=(10,5))\n",
    "sns.reset_orig()\n",
    "plt.title('Accuracy of Dynamic Forecasting Results', fontsize = 30)\n",
    "plt.plot(acc,label = 'Accuracy: Static')\n",
    "plt.plot(acc_dymanic,label = 'Accuracy: Dynamic')\n",
    "plt.xlabel('Time', fontsize = 25)\n",
    "plt.ylabel('Value', fontsize = 25)\n",
    "plt.legend(fontsize = 22)\n",
    "\n",
    "plt.show()"
   ]
  },
  {
   "cell_type": "code",
   "execution_count": null,
   "metadata": {},
   "outputs": [],
   "source": []
  },
  {
   "cell_type": "code",
   "execution_count": 79,
   "metadata": {},
   "outputs": [],
   "source": [
    "import shap"
   ]
  },
  {
   "cell_type": "code",
   "execution_count": 55,
   "metadata": {},
   "outputs": [
    {
     "name": "stdout",
     "output_type": "stream",
     "text": [
      "100%_finish!\r"
     ]
    }
   ],
   "source": [
    "df_shap_results = pd.DataFrame()\n",
    "\n",
    "for i in range(0,int(len(test_more)/S)):\n",
    "    df_x_train = df_features[ i*S : L + i*S]\n",
    "    df_y_train = df_target[ i*S : L + i*S]\n",
    "    \n",
    "    df_x_val = df_features[L + i*S : L + i*S + S]\n",
    "    df_y_val = df_target[L + i*S : L + i*S + S]\n",
    "    \n",
    "    lgb_merge_df.fit(df_x_train, df_y_train,eval_metric=\"rmse\", \n",
    "        eval_set=[(df_x_train, df_y_train)],\n",
    "        verbose=False,\n",
    "        early_stopping_rounds = 1000)\n",
    "    \n",
    "    explainer_xgb_dynamic = shap.TreeExplainer(lgb_merge_df)\n",
    "    shap_xgb_values = explainer_xgb_dynamic(df_x_train)\n",
    "    shap_xgb_values = pd.DataFrame(shap_xgb_values.values)\n",
    "    \n",
    "    shap_values_update = []\n",
    "    for n in range(0, len(shap_xgb_values.columns)):\n",
    "        each_shap_value = (abs(shap_xgb_values[n]).sum())/len(shap_xgb_values)\n",
    "        \n",
    "        shap_values_update.append(each_shap_value)\n",
    "    \n",
    "    df_shap_results[i] = shap_values_update\n",
    "    del shap_values_update\n",
    "\n",
    "    percent = float(i)*100/float((len(test_more)/500))\n",
    "    sys.stdout.write(\"%.4f\"%percent);\n",
    "    sys.stdout.write(\"%\\r\");\n",
    "    sys.stdout.flush();\n",
    "\n",
    "sys.stdout.write(\"100%_finish!\\r\");\n",
    "sys.stdout.flush();\n"
   ]
  },
  {
   "cell_type": "code",
   "execution_count": 89,
   "metadata": {},
   "outputs": [
    {
     "name": "stdout",
     "output_type": "stream",
     "text": [
      "100%_finish!\r"
     ]
    }
   ],
   "source": [
    "prediction_results_up = []\n",
    "\n",
    "df_shap_update = pd.DataFrame()\n",
    "df_cols = pd.DataFrame(x_train1.columns)\n",
    "df_shap_update['Features'] = df_cols[0]\n",
    "\n",
    "for i in range(0,len(df_shap_results.columns)) :\n",
    "    \n",
    "    df_shap_update['shap_value'] = df_shap_results[i]\n",
    "    df_shap = df_shap_update.sort_values(by = 'shap_value').reset_index()\n",
    "    \n",
    "    df_x_train = df_features[ i*S : L + i*S]\n",
    "    df_y_train = df_target[ i*S : L + i*S]\n",
    "    \n",
    "    df_x_val = df_features[L + i*S : L + i*S + S]\n",
    "    df_y_val = df_target[L + i*S : L + i*S + S]\n",
    "    \n",
    "    \n",
    "\n",
    "    remove_features = df_shap['Features'][0: 40].values.tolist()\n",
    "    \n",
    "    df_x_train_up = df_x_train.drop(remove_features,axis=1)\n",
    "    df_x_val_up = df_x_val.drop(remove_features,axis=1)\n",
    "    \n",
    "    lgb_merge_df.fit(df_x_train_up, df_y_train,eval_metric=\"rmse\", \n",
    "        eval_set=[(df_x_train_up, df_y_train)],\n",
    "        verbose=False,\n",
    "        early_stopping_rounds = 1000)\n",
    "    \n",
    "    pred_dynamic_up=lgb_merge_df.predict(df_x_val_up)\n",
    "    \n",
    "    prediction_results_up.append(pred_dynamic_up)\n",
    "\n",
    "    percent = float(i)*100/float(len(df_shap_results.columns))\n",
    "    sys.stdout.write(\"%.4f\"%percent);\n",
    "    sys.stdout.write(\"%\\r\");\n",
    "    sys.stdout.flush();\n",
    "\n",
    "sys.stdout.write(\"100%_finish!\\r\");\n",
    "sys.stdout.flush();"
   ]
  },
  {
   "cell_type": "code",
   "execution_count": 90,
   "metadata": {},
   "outputs": [],
   "source": [
    "pred_up = np.array(prediction_results_up)"
   ]
  },
  {
   "cell_type": "code",
   "execution_count": 91,
   "metadata": {},
   "outputs": [],
   "source": [
    "pred_results_up =pred_up.flatten()"
   ]
  },
  {
   "cell_type": "code",
   "execution_count": 92,
   "metadata": {},
   "outputs": [
    {
     "name": "stdout",
     "output_type": "stream",
     "text": [
      "100%_finish!\r"
     ]
    }
   ],
   "source": [
    "acc_dymanic_up = []\n",
    "\n",
    "for i in range(int(len(pred_results_up)/100)):\n",
    "    accuracy_dy_up = r2_score(test_more[0:100+i*100],pred_results_up[0:100+i*100])\n",
    "    \n",
    "    acc_dymanic_up.append(accuracy_dy_up)\n",
    "    \n",
    "    percent = float(i)*100/float((len(test_more)/100))\n",
    "    sys.stdout.write(\"%.4f\"%percent);\n",
    "    sys.stdout.write(\"%\\r\");\n",
    "    #sys.stdout.flush();\n",
    "\n",
    "sys.stdout.write(\"100%_finish!\\r\");\n",
    "sys.stdout.flush();"
   ]
  },
  {
   "cell_type": "code",
   "execution_count": 100,
   "metadata": {},
   "outputs": [
    {
     "data": {
      "image/png": "[encoded data removed]",
      "text/plain": [
       "<Figure size 720x360 with 1 Axes>"
      ]
     },
     "metadata": {
      "needs_background": "light"
     },
     "output_type": "display_data"
    }
   ],
   "source": [
    "fig = plt.figure(figsize=(10,5))\n",
    "plt.title('Accuracy of ASHRAE (1%)', fontsize = 25)\n",
    "plt.plot(acc[:100],label = 'Accuracy: Static')\n",
    "plt.plot(acc_dymanic[:100],label = 'Accuracy: Dynamic')\n",
    "plt.plot(acc_dymanic_up[:100],label = 'Optimized Accuracy: Dynamic')\n",
    "plt.xlabel('Time', fontsize = 20)\n",
    "plt.ylabel('Value', fontsize = 20)\n",
    "plt.legend(fontsize = 12)\n",
    "\n",
    "plt.show()"
   ]
  },
  {
   "cell_type": "code",
   "execution_count": null,
   "metadata": {},
   "outputs": [],
   "source": []
  },
  {
   "cell_type": "code",
   "execution_count": null,
   "metadata": {},
   "outputs": [],
   "source": []
  }
 ],
 "metadata": {
  "kernelspec": {
   "display_name": "Python 3",
   "language": "python",
   "name": "python3"
  },
  "language_info": {
   "codemirror_mode": {
    "name": "ipython",
    "version": 3
   },
   "file_extension": ".py",
   "mimetype": "text/x-python",
   "name": "python",
   "nbconvert_exporter": "python",
   "pygments_lexer": "ipython3",
   "version": "3.8.5"
  }
 },
 "nbformat": 4,
 "nbformat_minor": 4
}
