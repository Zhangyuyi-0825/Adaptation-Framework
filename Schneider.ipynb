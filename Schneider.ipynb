{
 "cells": [
  {
   "cell_type": "code",
   "execution_count": 1,
   "metadata": {},
   "outputs": [],
   "source": [
    "import numpy as np\n",
    "import pandas as pd\n",
    "import sys\n",
    "import matplotlib.pyplot as plt\n",
    "import seaborn as sns\n",
    "sns.set_style('darkgrid')\n",
    "import warnings\n",
    "import lightgbm as lgb\n",
    "import datetime as dt\n",
    "import matplotlib.dates as mdates\n",
    "warnings.filterwarnings('ignore')\n",
    "from sklearn.metrics import mean_squared_error,r2_score\n",
    "from math import sqrt"
   ]
  },
  {
   "cell_type": "code",
   "execution_count": 2,
   "metadata": {},
   "outputs": [
    {
     "name": "stdout",
     "output_type": "stream",
     "text": [
      "CPU times: user 15.6 s, sys: 2.81 s, total: 18.4 s\n",
      "Wall time: 19 s\n"
     ]
    }
   ],
   "source": [
    "%%time\n",
    "root = '/Users/yuyizhang/Documents/forecasting/Energy_Data/Forecasting Energy Consumption_data/'\n",
    "holidays=pd.read_csv(root + 'holidays.csv')\n",
    "metadata=pd.read_csv(root + 'metadata.csv')\n",
    "train=pd.read_csv(root + 'train.csv')\n",
    "weather=pd.read_csv(root + 'weather.csv')"
   ]
  },
  {
   "cell_type": "code",
   "execution_count": 3,
   "metadata": {},
   "outputs": [],
   "source": [
    "holidays = holidays.rename(columns={\"Date\": \"Timestamp\"})"
   ]
  },
  {
   "cell_type": "code",
   "execution_count": 4,
   "metadata": {},
   "outputs": [],
   "source": [
    "holidays['Timestamp']= pd.to_datetime(holidays['Timestamp'],format='%d/%m/%Y')\n",
    "train['Timestamp']= pd.to_datetime(train['Timestamp'],format='%Y-%m-%d %H:%M:%S')\n",
    "weather['Timestamp']= pd.to_datetime(weather['Timestamp'],format='%Y-%m-%d %H:%M:%S')"
   ]
  },
  {
   "cell_type": "code",
   "execution_count": 5,
   "metadata": {},
   "outputs": [],
   "source": [
    "merge_df = pd.merge(train,metadata,how = 'outer',on = ['SiteId'])\n",
    "merge_df = merge_df.dropna(axis = 0, how = 'any')"
   ]
  },
  {
   "cell_type": "code",
   "execution_count": 6,
   "metadata": {},
   "outputs": [],
   "source": [
    "del train, metadata"
   ]
  },
  {
   "cell_type": "code",
   "execution_count": 7,
   "metadata": {},
   "outputs": [],
   "source": [
    "# Below function extracts date related features from datetime\n",
    "def create_date_featues_train(df):\n",
    "\n",
    "    df['Year'] = pd.to_datetime(merge_df['Timestamp']).dt.year\n",
    "    df['Month'] = pd.to_datetime(merge_df['Timestamp']).dt.month\n",
    "    df['Day'] = pd.to_datetime(merge_df['Timestamp']).dt.day\n",
    "    df['Hour'] = pd.to_datetime(merge_df['Timestamp']).dt.hour\n",
    "    df['Minute'] = pd.to_datetime(merge_df['Timestamp']).dt.minute\n",
    "    \n",
    "    return df"
   ]
  },
  {
   "cell_type": "code",
   "execution_count": 8,
   "metadata": {},
   "outputs": [],
   "source": [
    "merge_df = create_date_featues_train(merge_df)\n",
    "df_train = pd.merge(merge_df,holidays,how = 'outer',on = ['Timestamp'])"
   ]
  },
  {
   "cell_type": "code",
   "execution_count": 9,
   "metadata": {},
   "outputs": [],
   "source": [
    "df_train['Holiday'] = df_train['Holiday'].replace(np.nan, 0)\n",
    "df_train = df_train.dropna(axis = 0, how = 'any')"
   ]
  },
  {
   "cell_type": "code",
   "execution_count": 10,
   "metadata": {},
   "outputs": [],
   "source": [
    "for col in ['Holiday']:\n",
    "    df_train = pd.get_dummies(df_train, columns=[col])\n",
    "for col in ['Sampling']:\n",
    "    df_train = pd.get_dummies(df_train, columns=[col])\n",
    "for col in ['BaseTemperature']:\n",
    "    df_train = pd.get_dummies(df_train, columns=[col])\n",
    "for col in ['MondayIsDayOff']:\n",
    "    df_train = pd.get_dummies(df_train, columns=[col])\n",
    "for col in ['TuesdayIsDayOff']:\n",
    "    df_train = pd.get_dummies(df_train, columns=[col])\n",
    "for col in ['WednesdayIsDayOff']:\n",
    "    df_train = pd.get_dummies(df_train, columns=[col])\n",
    "for col in ['ThursdayIsDayOff']:\n",
    "    df_train = pd.get_dummies(df_train, columns=[col])\n",
    "for col in ['FridayIsDayOff']:\n",
    "    df_train = pd.get_dummies(df_train, columns=[col])\n",
    "for col in ['SaturdayIsDayOff']:\n",
    "    df_train = pd.get_dummies(df_train, columns=[col])\n",
    "for col in ['SundayIsDayOff']:\n",
    "    df_train = pd.get_dummies(df_train, columns=[col])"
   ]
  },
  {
   "cell_type": "code",
   "execution_count": 11,
   "metadata": {},
   "outputs": [
    {
     "data": {
      "text/plain": [
       "(606539, 134)"
      ]
     },
     "execution_count": 11,
     "metadata": {},
     "output_type": "execute_result"
    }
   ],
   "source": [
    "df_train.shape"
   ]
  },
  {
   "cell_type": "code",
   "execution_count": 12,
   "metadata": {},
   "outputs": [],
   "source": [
    "df_train_value = pd.DataFrame(df_train.Value.copy())\n",
    "df_train_value.columns = [\"Value\"]"
   ]
  },
  {
   "cell_type": "code",
   "execution_count": 13,
   "metadata": {},
   "outputs": [],
   "source": [
    "# Adding the lag of the target variable from 6 steps back up to 24\n",
    "for i in range(6, 50):\n",
    "    df_train_value[\"lag_{}\".format(i)] = df_train_value.Value.shift(i)\n",
    "    \n",
    "df_value_lag = df_train_value.drop(columns = ['Value'])\n",
    "del df_train_value"
   ]
  },
  {
   "cell_type": "code",
   "execution_count": 14,
   "metadata": {},
   "outputs": [],
   "source": [
    "train_all = pd.concat([df_train,df_value_lag],axis=1)\n",
    "train_all = train_all.dropna(axis = 0, how = 'any')\n",
    "train_all = train_all.reset_index(drop=True)"
   ]
  },
  {
   "cell_type": "code",
   "execution_count": 15,
   "metadata": {},
   "outputs": [
    {
     "data": {
      "text/plain": [
       "(606490, 178)"
      ]
     },
     "execution_count": 15,
     "metadata": {},
     "output_type": "execute_result"
    }
   ],
   "source": [
    "train_all.shape"
   ]
  },
  {
   "cell_type": "code",
   "execution_count": 94,
   "metadata": {},
   "outputs": [],
   "source": [
    "df_1 = train_all[:int(len(train_all)*0.15)]\n",
    "train_set = df_1[ : int(len(df_1)*0.7)]\n",
    "test_set = df_1[int(len(df_1)*0.7) : ]"
   ]
  },
  {
   "cell_type": "code",
   "execution_count": 95,
   "metadata": {},
   "outputs": [
    {
     "name": "stdout",
     "output_type": "stream",
     "text": [
      "(63681, 178)\n",
      "(27292, 178)\n"
     ]
    }
   ],
   "source": [
    "print(train_set.shape)\n",
    "print(test_set.shape)"
   ]
  },
  {
   "cell_type": "code",
   "execution_count": 96,
   "metadata": {},
   "outputs": [],
   "source": [
    "x_train1 = train_set.drop(columns={'obs_id','Timestamp','Value'},axis=1)\n",
    "y_train1 = train_set.loc[:,['Value']]\n",
    "\n",
    "x_val1=test_set.drop(columns={'obs_id','Timestamp','Value'},axis=1)\n",
    "y_val1=test_set.loc[:,['Value']]"
   ]
  },
  {
   "cell_type": "code",
   "execution_count": 97,
   "metadata": {
    "collapsed": true,
    "jupyter": {
     "outputs_hidden": true
    }
   },
   "outputs": [
    {
     "name": "stdout",
     "output_type": "stream",
     "text": [
      "[1]\ttraining's rmse: 3.49612e+06\ttraining's l2: 1.22229e+13\n",
      "Training until validation scores don't improve for 1000 rounds\n",
      "[2]\ttraining's rmse: 3.18866e+06\ttraining's l2: 1.01676e+13\n",
      "[3]\ttraining's rmse: 2.91518e+06\ttraining's l2: 8.49825e+12\n",
      "[4]\ttraining's rmse: 2.67606e+06\ttraining's l2: 7.16127e+12\n",
      "[5]\ttraining's rmse: 2.47866e+06\ttraining's l2: 6.14377e+12\n",
      "[6]\ttraining's rmse: 2.28376e+06\ttraining's l2: 5.21554e+12\n",
      "[7]\ttraining's rmse: 2.11848e+06\ttraining's l2: 4.48795e+12\n",
      "[8]\ttraining's rmse: 1.97879e+06\ttraining's l2: 3.91561e+12\n",
      "[9]\ttraining's rmse: 1.84273e+06\ttraining's l2: 3.39565e+12\n",
      "[10]\ttraining's rmse: 1.72149e+06\ttraining's l2: 2.96353e+12\n",
      "[11]\ttraining's rmse: 1.60924e+06\ttraining's l2: 2.58967e+12\n",
      "[12]\ttraining's rmse: 1.50868e+06\ttraining's l2: 2.27611e+12\n",
      "[13]\ttraining's rmse: 1.42732e+06\ttraining's l2: 2.03724e+12\n",
      "[14]\ttraining's rmse: 1.35189e+06\ttraining's l2: 1.8276e+12\n",
      "[15]\ttraining's rmse: 1.28871e+06\ttraining's l2: 1.66078e+12\n",
      "[16]\ttraining's rmse: 1.22311e+06\ttraining's l2: 1.49601e+12\n",
      "[17]\ttraining's rmse: 1.15927e+06\ttraining's l2: 1.34391e+12\n",
      "[18]\ttraining's rmse: 1.10247e+06\ttraining's l2: 1.21544e+12\n",
      "[19]\ttraining's rmse: 1.0474e+06\ttraining's l2: 1.09705e+12\n",
      "[20]\ttraining's rmse: 1.01367e+06\ttraining's l2: 1.02752e+12\n",
      "[21]\ttraining's rmse: 978435\ttraining's l2: 9.57334e+11\n",
      "[22]\ttraining's rmse: 933951\ttraining's l2: 8.72265e+11\n",
      "[23]\ttraining's rmse: 895333\ttraining's l2: 8.01621e+11\n",
      "[24]\ttraining's rmse: 860160\ttraining's l2: 7.39875e+11\n",
      "[25]\ttraining's rmse: 828127\ttraining's l2: 6.85794e+11\n",
      "[26]\ttraining's rmse: 812615\ttraining's l2: 6.60342e+11\n",
      "[27]\ttraining's rmse: 774728\ttraining's l2: 6.00204e+11\n",
      "[28]\ttraining's rmse: 753814\ttraining's l2: 5.68235e+11\n",
      "[29]\ttraining's rmse: 728413\ttraining's l2: 5.30585e+11\n",
      "[30]\ttraining's rmse: 697870\ttraining's l2: 4.87022e+11\n",
      "[31]\ttraining's rmse: 683686\ttraining's l2: 4.67427e+11\n",
      "[32]\ttraining's rmse: 666886\ttraining's l2: 4.44737e+11\n",
      "[33]\ttraining's rmse: 658315\ttraining's l2: 4.33378e+11\n",
      "[34]\ttraining's rmse: 648451\ttraining's l2: 4.20489e+11\n",
      "[35]\ttraining's rmse: 638310\ttraining's l2: 4.07439e+11\n",
      "[36]\ttraining's rmse: 632608\ttraining's l2: 4.00192e+11\n",
      "[37]\ttraining's rmse: 606060\ttraining's l2: 3.67308e+11\n",
      "[38]\ttraining's rmse: 591987\ttraining's l2: 3.50449e+11\n",
      "[39]\ttraining's rmse: 587395\ttraining's l2: 3.45033e+11\n",
      "[40]\ttraining's rmse: 576768\ttraining's l2: 3.32661e+11\n",
      "[41]\ttraining's rmse: 554065\ttraining's l2: 3.06988e+11\n",
      "[42]\ttraining's rmse: 549766\ttraining's l2: 3.02243e+11\n",
      "[43]\ttraining's rmse: 529990\ttraining's l2: 2.8089e+11\n",
      "[44]\ttraining's rmse: 526908\ttraining's l2: 2.77632e+11\n",
      "[45]\ttraining's rmse: 523776\ttraining's l2: 2.74341e+11\n",
      "[46]\ttraining's rmse: 518254\ttraining's l2: 2.68587e+11\n",
      "[47]\ttraining's rmse: 514359\ttraining's l2: 2.64566e+11\n",
      "[48]\ttraining's rmse: 511611\ttraining's l2: 2.61746e+11\n",
      "[49]\ttraining's rmse: 495898\ttraining's l2: 2.45915e+11\n",
      "[50]\ttraining's rmse: 492021\ttraining's l2: 2.42085e+11\n",
      "[51]\ttraining's rmse: 480587\ttraining's l2: 2.30964e+11\n",
      "[52]\ttraining's rmse: 465491\ttraining's l2: 2.16682e+11\n",
      "[53]\ttraining's rmse: 452046\ttraining's l2: 2.04345e+11\n",
      "[54]\ttraining's rmse: 448066\ttraining's l2: 2.00763e+11\n",
      "[55]\ttraining's rmse: 443772\ttraining's l2: 1.96934e+11\n",
      "[56]\ttraining's rmse: 435197\ttraining's l2: 1.89396e+11\n",
      "[57]\ttraining's rmse: 432021\ttraining's l2: 1.86642e+11\n",
      "[58]\ttraining's rmse: 421117\ttraining's l2: 1.7734e+11\n",
      "[59]\ttraining's rmse: 418334\ttraining's l2: 1.75004e+11\n",
      "[60]\ttraining's rmse: 415882\ttraining's l2: 1.72958e+11\n",
      "[61]\ttraining's rmse: 413845\ttraining's l2: 1.71268e+11\n",
      "[62]\ttraining's rmse: 408612\ttraining's l2: 1.66964e+11\n",
      "[63]\ttraining's rmse: 405945\ttraining's l2: 1.64791e+11\n",
      "[64]\ttraining's rmse: 404145\ttraining's l2: 1.63333e+11\n",
      "[65]\ttraining's rmse: 401567\ttraining's l2: 1.61256e+11\n",
      "[66]\ttraining's rmse: 395102\ttraining's l2: 1.56105e+11\n",
      "[67]\ttraining's rmse: 391859\ttraining's l2: 1.53554e+11\n",
      "[68]\ttraining's rmse: 389551\ttraining's l2: 1.5175e+11\n",
      "[69]\ttraining's rmse: 383692\ttraining's l2: 1.47219e+11\n",
      "[70]\ttraining's rmse: 382390\ttraining's l2: 1.46222e+11\n",
      "[71]\ttraining's rmse: 379173\ttraining's l2: 1.43772e+11\n",
      "[72]\ttraining's rmse: 372296\ttraining's l2: 1.38604e+11\n",
      "[73]\ttraining's rmse: 371128\ttraining's l2: 1.37736e+11\n",
      "[74]\ttraining's rmse: 369866\ttraining's l2: 1.36801e+11\n",
      "[75]\ttraining's rmse: 367163\ttraining's l2: 1.34809e+11\n",
      "[76]\ttraining's rmse: 364094\ttraining's l2: 1.32565e+11\n",
      "[77]\ttraining's rmse: 361599\ttraining's l2: 1.30754e+11\n",
      "[78]\ttraining's rmse: 360065\ttraining's l2: 1.29646e+11\n",
      "[79]\ttraining's rmse: 358510\ttraining's l2: 1.2853e+11\n",
      "[80]\ttraining's rmse: 356526\ttraining's l2: 1.27111e+11\n",
      "[81]\ttraining's rmse: 351588\ttraining's l2: 1.23614e+11\n",
      "[82]\ttraining's rmse: 349785\ttraining's l2: 1.22349e+11\n",
      "[83]\ttraining's rmse: 348348\ttraining's l2: 1.21346e+11\n",
      "[84]\ttraining's rmse: 346829\ttraining's l2: 1.2029e+11\n",
      "[85]\ttraining's rmse: 343712\ttraining's l2: 1.18138e+11\n",
      "[86]\ttraining's rmse: 342297\ttraining's l2: 1.17167e+11\n",
      "[87]\ttraining's rmse: 338138\ttraining's l2: 1.14338e+11\n",
      "[88]\ttraining's rmse: 337023\ttraining's l2: 1.13585e+11\n",
      "[89]\ttraining's rmse: 335858\ttraining's l2: 1.12801e+11\n",
      "[90]\ttraining's rmse: 334055\ttraining's l2: 1.11593e+11\n",
      "[91]\ttraining's rmse: 330400\ttraining's l2: 1.09164e+11\n",
      "[92]\ttraining's rmse: 329446\ttraining's l2: 1.08535e+11\n",
      "[93]\ttraining's rmse: 328070\ttraining's l2: 1.0763e+11\n",
      "[94]\ttraining's rmse: 324804\ttraining's l2: 1.05497e+11\n",
      "[95]\ttraining's rmse: 322463\ttraining's l2: 1.03982e+11\n",
      "[96]\ttraining's rmse: 321274\ttraining's l2: 1.03217e+11\n",
      "[97]\ttraining's rmse: 320337\ttraining's l2: 1.02615e+11\n",
      "[98]\ttraining's rmse: 319491\ttraining's l2: 1.02074e+11\n",
      "[99]\ttraining's rmse: 318530\ttraining's l2: 1.01461e+11\n",
      "[100]\ttraining's rmse: 315908\ttraining's l2: 9.97977e+10\n",
      "Did not meet early stopping. Best iteration is:\n",
      "[100]\ttraining's rmse: 315908\ttraining's l2: 9.97977e+10\n"
     ]
    },
    {
     "data": {
      "text/plain": [
       "LGBMRegressor(objective='regression')"
      ]
     },
     "execution_count": 97,
     "metadata": {},
     "output_type": "execute_result"
    }
   ],
   "source": [
    "import lightgbm as lgb\n",
    "\n",
    "lgb_merge_df = lgb.LGBMRegressor(objective='regression')\n",
    "lgb_merge_df.fit(x_train1, y_train1,eval_metric=\"rmse\", \n",
    "    eval_set=[(x_train1, y_train1)],\n",
    "    verbose=True, \n",
    "    early_stopping_rounds = 1000)"
   ]
  },
  {
   "cell_type": "code",
   "execution_count": 101,
   "metadata": {},
   "outputs": [],
   "source": [
    "from sklearn.metrics import mean_squared_error,r2_score\n",
    "from math import sqrt"
   ]
  },
  {
   "cell_type": "code",
   "execution_count": 102,
   "metadata": {},
   "outputs": [],
   "source": [
    "pred_lgb_df=lgb_merge_df.predict(x_val1)"
   ]
  },
  {
   "cell_type": "code",
   "execution_count": 103,
   "metadata": {},
   "outputs": [
    {
     "data": {
      "text/plain": [
       "0.9719423296293755"
      ]
     },
     "execution_count": 103,
     "metadata": {},
     "output_type": "execute_result"
    }
   ],
   "source": [
    "r2_score(y_val1,pred_lgb_df)"
   ]
  },
  {
   "cell_type": "code",
   "execution_count": 23,
   "metadata": {},
   "outputs": [],
   "source": [
    "import shap"
   ]
  },
  {
   "cell_type": "code",
   "execution_count": 24,
   "metadata": {},
   "outputs": [],
   "source": [
    "explainer_xgb_static = shap.TreeExplainer(lgb_merge_df)\n",
    "shap_xgb_values = explainer_xgb_static(x_train1)"
   ]
  },
  {
   "cell_type": "code",
   "execution_count": 25,
   "metadata": {},
   "outputs": [
    {
     "data": {
      "image/png": "[encoded data removed]",
      "text/plain": [
       "<Figure size 576x396 with 2 Axes>"
      ]
     },
     "metadata": {
      "needs_background": "light"
     },
     "output_type": "display_data"
    }
   ],
   "source": [
    "sns.reset_orig()\n",
    "shap.plots.beeswarm(shap_xgb_values)"
   ]
  },
  {
   "cell_type": "code",
   "execution_count": null,
   "metadata": {},
   "outputs": [],
   "source": []
  },
  {
   "cell_type": "code",
   "execution_count": null,
   "metadata": {},
   "outputs": [],
   "source": []
  },
  {
   "cell_type": "code",
   "execution_count": 26,
   "metadata": {},
   "outputs": [],
   "source": [
    "df_more = train_all[int(len(df_1)*0.7) : ]"
   ]
  },
  {
   "cell_type": "code",
   "execution_count": 27,
   "metadata": {},
   "outputs": [],
   "source": [
    "train_more = df_more.drop(columns={'obs_id','Timestamp','Value'},axis=1)\n",
    "test_more = df_more.loc[:,['Value']]"
   ]
  },
  {
   "cell_type": "code",
   "execution_count": 28,
   "metadata": {},
   "outputs": [],
   "source": [
    "pred_xgb_more=lgb_merge_df.predict(train_more)"
   ]
  },
  {
   "cell_type": "code",
   "execution_count": 29,
   "metadata": {},
   "outputs": [
    {
     "data": {
      "text/plain": [
       "0.6768239705681515"
      ]
     },
     "execution_count": 29,
     "metadata": {},
     "output_type": "execute_result"
    }
   ],
   "source": [
    "r2_score(test_more,pred_xgb_more)"
   ]
  },
  {
   "cell_type": "code",
   "execution_count": 30,
   "metadata": {},
   "outputs": [
    {
     "data": {
      "text/plain": [
       "542809"
      ]
     },
     "execution_count": 30,
     "metadata": {},
     "output_type": "execute_result"
    }
   ],
   "source": [
    "int(len(pred_xgb_more))"
   ]
  },
  {
   "cell_type": "code",
   "execution_count": 82,
   "metadata": {},
   "outputs": [
    {
     "name": "stdout",
     "output_type": "stream",
     "text": [
      "100%_finish!\r"
     ]
    }
   ],
   "source": [
    "acc = []\n",
    "\n",
    "for i in range(0,int((len(test_more)-1000)/10)):\n",
    "    accuracy = r2_score(test_more[0:1000+i*10],pred_xgb_more[0:1000+i*10])\n",
    "    \n",
    "    acc.append(accuracy)\n",
    "\n",
    "    percent = float(i)*10/int(len(test_more)/100)\n",
    "    sys.stdout.write(\"%.4f\"%percent);\n",
    "    sys.stdout.write(\"%\\r\");\n",
    "    #sys.stdout.flush();\n",
    "\n",
    "sys.stdout.write(\"100%_finish!\\r\");\n",
    "sys.stdout.flush();"
   ]
  },
  {
   "cell_type": "code",
   "execution_count": 83,
   "metadata": {},
   "outputs": [
    {
     "data": {
      "image/png": "[encoded data removed]",
      "text/plain": [
       "<Figure size 720x360 with 1 Axes>"
      ]
     },
     "metadata": {
      "needs_background": "light"
     },
     "output_type": "display_data"
    }
   ],
   "source": [
    "fig = plt.figure(figsize=(10,5))\n",
    "sns.reset_orig()\n",
    "plt.title('Accuracy of Static Forecasting Results', fontsize = 30)\n",
    "plt.plot(acc,label = 'Accuracy: R^2')\n",
    "plt.xlabel('Time', fontsize = 25)\n",
    "plt.ylabel('Value', fontsize = 25)\n",
    "plt.legend(fontsize = 22)\n",
    "\n",
    "plt.show()"
   ]
  },
  {
   "cell_type": "code",
   "execution_count": 34,
   "metadata": {},
   "outputs": [],
   "source": [
    "df_features = train_all.drop(columns={'obs_id','Timestamp','Value'},axis=1)\n",
    "df_target = train_all.loc[:,['Value']]"
   ]
  },
  {
   "cell_type": "code",
   "execution_count": 35,
   "metadata": {},
   "outputs": [],
   "source": [
    "lgb_merge_df = lgb.LGBMRegressor(objective='regression')"
   ]
  },
  {
   "cell_type": "code",
   "execution_count": 36,
   "metadata": {},
   "outputs": [],
   "source": [
    "L = int(len(df_1)*0.7)\n",
    "S = int(len(df_1)*0.3)"
   ]
  },
  {
   "cell_type": "code",
   "execution_count": 37,
   "metadata": {},
   "outputs": [
    {
     "name": "stdout",
     "output_type": "stream",
     "text": [
      "100%_finish!\r"
     ]
    }
   ],
   "source": [
    "prediction_results = []\n",
    "\n",
    "for i in range(0,int(len(test_more)/S)):\n",
    "    df_x_train = df_features[ i*S : L + i*S]\n",
    "    df_y_train = df_target[ i*S : L + i*S]\n",
    "    \n",
    "    df_x_val = df_features[L + i*S : L + i*S + S]\n",
    "    df_y_val = df_target[L + i*S : L + i*S + S]\n",
    "    \n",
    "    \n",
    "    \n",
    "    lgb_merge_df.fit(df_x_train, df_y_train,eval_metric=\"rmse\", \n",
    "        eval_set=[(df_x_train, df_y_train)],\n",
    "        verbose=False,\n",
    "        early_stopping_rounds = 1000)\n",
    "    \n",
    "    pred_dynamic=lgb_merge_df.predict(df_x_val)\n",
    "    \n",
    "    prediction_results.append(pred_dynamic)\n",
    "\n",
    "    percent = float(i)*100/float(len(test_more)/S)\n",
    "    sys.stdout.write(\"%.4f\"%percent);\n",
    "    sys.stdout.write(\"%\\r\");\n",
    "    sys.stdout.flush();\n",
    "\n",
    "sys.stdout.write(\"100%_finish!\\r\");\n",
    "sys.stdout.flush();"
   ]
  },
  {
   "cell_type": "code",
   "execution_count": 38,
   "metadata": {},
   "outputs": [],
   "source": [
    "pred = np.array(prediction_results)"
   ]
  },
  {
   "cell_type": "code",
   "execution_count": 39,
   "metadata": {},
   "outputs": [],
   "source": [
    "pred_results =pred.flatten()"
   ]
  },
  {
   "cell_type": "code",
   "execution_count": 44,
   "metadata": {},
   "outputs": [
    {
     "data": {
      "text/plain": [
       "518"
      ]
     },
     "execution_count": 44,
     "metadata": {},
     "output_type": "execute_result"
    }
   ],
   "source": [
    "int(len(pred_results)/1000)"
   ]
  },
  {
   "cell_type": "code",
   "execution_count": 80,
   "metadata": {},
   "outputs": [
    {
     "name": "stdout",
     "output_type": "stream",
     "text": [
      "100%_finish!%\r"
     ]
    }
   ],
   "source": [
    "acc_dymanic = []\n",
    "\n",
    "for i in range(0,int((len(pred_results)-1000)/10)):\n",
    "    accuracy_dy = r2_score(test_more[0:1000+i*10],pred_results[0:1000+i*10])\n",
    "    \n",
    "    acc_dymanic.append(accuracy_dy)\n",
    "    \n",
    "    percent = float(i)*10/int(len(test_more)/100)\n",
    "    sys.stdout.write(\"%.4f\"%percent);\n",
    "    sys.stdout.write(\"%\\r\");\n",
    "    #sys.stdout.flush();\n",
    "\n",
    "sys.stdout.write(\"100%_finish!\\r\");\n",
    "sys.stdout.flush();"
   ]
  },
  {
   "cell_type": "code",
   "execution_count": 84,
   "metadata": {},
   "outputs": [
    {
     "data": {
      "image/png": "[encoded data removed]",
      "text/plain": [
       "<Figure size 720x360 with 1 Axes>"
      ]
     },
     "metadata": {
      "needs_background": "light"
     },
     "output_type": "display_data"
    }
   ],
   "source": [
    "fig = plt.figure(figsize=(10,5))\n",
    "plt.title('Accuracy of Dynamic Forecasting Results', fontsize = 30)\n",
    "plt.plot(acc,label = 'Accuracy: Static')\n",
    "plt.plot(acc_dymanic,label = 'Accuracy: Dynamic')\n",
    "plt.xlabel('Time', fontsize = 25)\n",
    "plt.ylabel('Value', fontsize = 25)\n",
    "plt.legend(fontsize = 22)\n",
    "\n",
    "plt.show()"
   ]
  },
  {
   "cell_type": "code",
   "execution_count": 48,
   "metadata": {},
   "outputs": [],
   "source": [
    "import shap"
   ]
  },
  {
   "cell_type": "code",
   "execution_count": 49,
   "metadata": {},
   "outputs": [
    {
     "name": "stdout",
     "output_type": "stream",
     "text": [
      "100%_finish!\r"
     ]
    }
   ],
   "source": [
    "df_shap_results = pd.DataFrame()\n",
    "\n",
    "for i in range(0,int(len(test_more)/S)):\n",
    "    df_x_train = df_features[ i*S : L + i*S]\n",
    "    df_y_train = df_target[ i*S : L + i*S]\n",
    "    \n",
    "    df_x_val = df_features[L + i*S : L + i*S + S]\n",
    "    df_y_val = df_target[L + i*S : L + i*S + S]\n",
    "    \n",
    "    lgb_merge_df.fit(df_x_train, df_y_train,eval_metric=\"rmse\", \n",
    "        eval_set=[(df_x_train, df_y_train)],\n",
    "        verbose=False,\n",
    "        early_stopping_rounds = 1000)\n",
    "    \n",
    "    explainer_xgb_dynamic = shap.TreeExplainer(lgb_merge_df)\n",
    "    shap_xgb_values = explainer_xgb_dynamic(df_x_train)\n",
    "    shap_xgb_values = pd.DataFrame(shap_xgb_values.values)\n",
    "    \n",
    "    shap_values_update = []\n",
    "    for n in range(0, len(shap_xgb_values.columns)):\n",
    "        each_shap_value = (abs(shap_xgb_values[n]).sum())/len(shap_xgb_values)\n",
    "        \n",
    "        shap_values_update.append(each_shap_value)\n",
    "    \n",
    "    df_shap_results[i] = shap_values_update\n",
    "    del shap_values_update\n",
    "    \n",
    "    percent = float(i)*100/float(len(test_more)/S)\n",
    "    sys.stdout.write(\"%.4f\"%percent);\n",
    "    sys.stdout.write(\"%\\r\");\n",
    "    sys.stdout.flush();\n",
    "\n",
    "sys.stdout.write(\"100%_finish!\\r\");\n",
    "sys.stdout.flush();"
   ]
  },
  {
   "cell_type": "code",
   "execution_count": 109,
   "metadata": {},
   "outputs": [
    {
     "name": "stdout",
     "output_type": "stream",
     "text": [
      "100%_finish!\r"
     ]
    }
   ],
   "source": [
    "prediction_results_up = []\n",
    "\n",
    "df_shap_update = pd.DataFrame()\n",
    "df_cols = pd.DataFrame(x_train1.columns)\n",
    "df_shap_update['Features'] = df_cols[0]\n",
    "\n",
    "for i in range(0,len(df_shap_results.columns)) :\n",
    "    \n",
    "    df_shap_update['shap_value'] = df_shap_results[i]\n",
    "    df_shap = df_shap_update.sort_values(by = 'shap_value').reset_index()\n",
    "    \n",
    "    df_x_train = df_features[ i*S : L + i*S]\n",
    "    df_y_train = df_target[ i*S : L + i*S]\n",
    "    \n",
    "    df_x_val = df_features[L + i*S : L + i*S + S]\n",
    "    df_y_val = df_target[L + i*S : L + i*S + S]\n",
    "    \n",
    "    \n",
    "\n",
    "    remove_features = df_shap['Features'][0:165].values.tolist()\n",
    "    \n",
    "    df_x_train_up = df_x_train.drop(remove_features,axis=1)\n",
    "    df_x_val_up = df_x_val.drop(remove_features,axis=1)\n",
    "    \n",
    "    lgb_merge_df.fit(df_x_train_up, df_y_train,eval_metric=\"rmse\", \n",
    "        eval_set=[(df_x_train_up, df_y_train)],\n",
    "        verbose=False,\n",
    "        early_stopping_rounds = 1000)\n",
    "    \n",
    "    pred_dynamic_up=lgb_merge_df.predict(df_x_val_up)\n",
    "    \n",
    "    prediction_results_up.append(pred_dynamic_up)\n",
    "    \n",
    "    percent = float(i)*100/float(len(df_shap_results.columns))\n",
    "    sys.stdout.write(\"%.4f\"%percent);\n",
    "    sys.stdout.write(\"%\\r\");\n",
    "    sys.stdout.flush();\n",
    "\n",
    "sys.stdout.write(\"100%_finish!\\r\");\n",
    "sys.stdout.flush();"
   ]
  },
  {
   "cell_type": "code",
   "execution_count": 110,
   "metadata": {},
   "outputs": [],
   "source": [
    "pred_up = np.array(prediction_results_up)"
   ]
  },
  {
   "cell_type": "code",
   "execution_count": 111,
   "metadata": {},
   "outputs": [],
   "source": [
    "pred_results_up =pred_up.flatten()"
   ]
  },
  {
   "cell_type": "code",
   "execution_count": 112,
   "metadata": {},
   "outputs": [
    {
     "name": "stdout",
     "output_type": "stream",
     "text": [
      "100%_finish!\r"
     ]
    }
   ],
   "source": [
    "acc_dymanic_up = []\n",
    "\n",
    "for i in range(0,int((len(pred_results_up)-1000)/10)):\n",
    "    accuracy_dy_up = r2_score(test_more[0:1000+i*10],pred_results_up[0:1000+i*10])\n",
    "    \n",
    "    acc_dymanic_up.append(accuracy_dy_up)\n",
    "    \n",
    "    percent = float(i)*10/float((len(test_more)/100))\n",
    "    sys.stdout.write(\"%.4f\"%percent);\n",
    "    sys.stdout.write(\"%\\r\");\n",
    "    #sys.stdout.flush();\n",
    "\n",
    "sys.stdout.write(\"100%_finish!\\r\");\n",
    "sys.stdout.flush();"
   ]
  },
  {
   "cell_type": "code",
   "execution_count": 122,
   "metadata": {},
   "outputs": [
    {
     "data": {
      "image/png": "[encoded data removed]",
      "text/plain": [
       "<Figure size 720x360 with 1 Axes>"
      ]
     },
     "metadata": {
      "needs_background": "light"
     },
     "output_type": "display_data"
    }
   ],
   "source": [
    "fig = plt.figure(figsize=(10,5))\n",
    "plt.title('Accuracy of Schneider', fontsize = 25)\n",
    "plt.plot(acc,label = 'Accuracy: Static')\n",
    "plt.plot(acc_dymanic,label = 'Accuracy: Dynamic')\n",
    "plt.plot(acc_dymanic_up,label = 'Optimized Accuracy: Dynamic')\n",
    "plt.xlabel('Time', fontsize = 20)\n",
    "plt.ylabel('Value', fontsize = 20)\n",
    "plt.legend(fontsize = 12)\n",
    "\n",
    "plt.show()"
   ]
  },
  {
   "cell_type": "code",
   "execution_count": 114,
   "metadata": {},
   "outputs": [],
   "source": [
    "avg_acc = np.mean(acc)"
   ]
  },
  {
   "cell_type": "code",
   "execution_count": 115,
   "metadata": {},
   "outputs": [
    {
     "data": {
      "text/plain": [
       "0.7867340945289639"
      ]
     },
     "execution_count": 115,
     "metadata": {},
     "output_type": "execute_result"
    }
   ],
   "source": [
    "avg_acc"
   ]
  },
  {
   "cell_type": "code",
   "execution_count": 116,
   "metadata": {},
   "outputs": [],
   "source": [
    "avg_acc_dymanic = np.mean(acc_dymanic)"
   ]
  },
  {
   "cell_type": "code",
   "execution_count": 117,
   "metadata": {},
   "outputs": [
    {
     "data": {
      "text/plain": [
       "0.8397902792264055"
      ]
     },
     "execution_count": 117,
     "metadata": {},
     "output_type": "execute_result"
    }
   ],
   "source": [
    "avg_acc_dymanic"
   ]
  },
  {
   "cell_type": "code",
   "execution_count": 118,
   "metadata": {},
   "outputs": [],
   "source": [
    "avg_acc_dymanic_up = np.mean(acc_dymanic_up)"
   ]
  },
  {
   "cell_type": "code",
   "execution_count": 119,
   "metadata": {},
   "outputs": [
    {
     "data": {
      "text/plain": [
       "0.8476015578221797"
      ]
     },
     "execution_count": 119,
     "metadata": {},
     "output_type": "execute_result"
    }
   ],
   "source": [
    "avg_acc_dymanic_up"
   ]
  },
  {
   "cell_type": "code",
   "execution_count": null,
   "metadata": {},
   "outputs": [],
   "source": []
  }
 ],
 "metadata": {
  "kernelspec": {
   "display_name": "Python 3",
   "language": "python",
   "name": "python3"
  },
  "language_info": {
   "codemirror_mode": {
    "name": "ipython",
    "version": 3
   },
   "file_extension": ".py",
   "mimetype": "text/x-python",
   "name": "python",
   "nbconvert_exporter": "python",
   "pygments_lexer": "ipython3",
   "version": "3.8.5"
  }
 },
 "nbformat": 4,
 "nbformat_minor": 4
}
